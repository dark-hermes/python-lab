{
 "cells": [
  {
   "cell_type": "markdown",
   "metadata": {},
   "source": [
    "Hermawan Sentyaki Sarjito<br>\n",
    "J0403231111<br>\n",
    "senthermawan@apps.ipb.ac.id\n",
    "<br>\n",
    "https://github.com/dark-hermes\n",
    "\n",
    "Thanks to [Danan Purwantoro, S.T., M.Kom.](https://github.com/pakdanan \"https://github.com/pakdanan\") as a practitioner lecturer at IPB University."
   ]
  },
  {
   "cell_type": "markdown",
   "metadata": {},
   "source": [
    "# Functions in Python"
   ]
  },
  {
   "cell_type": "markdown",
   "metadata": {},
   "source": [
    "## What is a Function?\n",
    "- It is a body of **reusable** code for performing **specific** processes/tasks.\n",
    "- It is invoked by name, can compute a result and let us specify parameters as inputs.\n",
    "- Once we have **defined** a function, we can **call** (or invoke) it as many times as we like.\n",
    "- There are 2 kinds of functions:\n",
    "  1. **Built-in** functions that are provided as part of Python and ready to use -\n",
    "print(), input(), type(), float(), int() etc.\n",
    "    2. **User-defined** functions. Functions that we define ourselves based on our\n",
    "requirements ."
   ]
  },
  {
   "cell_type": "markdown",
   "metadata": {},
   "source": [
    "## Why Use Functions?\n",
    "- Maximizing code reuse and minimizing redundancy.<br>Because they allow us to code an operation in a single place and use it in many\n",
    "places. And thereby reduce maintenance effort.\n",
    "- Procedural decomposition.<br>Tool for splitting systems into pieces that have well-defined roles (one function\n",
    "for each subtask in the process). It’s easier to implement the smaller tasks in\n",
    "isolation than it is to implement the entire process at once.\n",
    "- Increase Code Readability"
   ]
  },
  {
   "cell_type": "markdown",
   "metadata": {},
   "source": [
    "## How to Define a Function?\n",
    "Syntax to define function:\n",
    "```python\n",
    "def function_name(parameters):\n",
    "    # statement\n",
    "    return expression\n",
    "```"
   ]
  },
  {
   "cell_type": "markdown",
   "metadata": {},
   "source": [
    "## How to Call a Function?\n",
    "- Function is being executed when it is called.\n",
    "- Function is called by using the name of the function followed by parenthesis containing parameters."
   ]
  },
  {
   "cell_type": "code",
   "execution_count": 1,
   "metadata": {},
   "outputs": [
    {
     "name": "stdout",
     "output_type": "stream",
     "text": [
      "IPB\n"
     ]
    }
   ],
   "source": [
    "# define function\n",
    "def printIPB():\n",
    "    print(\"IPB\")\n",
    "    \n",
    "# call function\n",
    "printIPB()"
   ]
  },
  {
   "cell_type": "markdown",
   "metadata": {},
   "source": [
    "## Parameters & Arguments\n",
    "- A **parameter** is the variable\n",
    "defined within the parentheses\n",
    "during function definition. It\n",
    "allows to access the\n",
    "arguments.\n",
    "- An **argument** is a value that is\n",
    "passed to a function when it is\n",
    "called."
   ]
  },
  {
   "cell_type": "code",
   "execution_count": 2,
   "metadata": {},
   "outputs": [
    {
     "name": "stdout",
     "output_type": "stream",
     "text": [
      "11\n"
     ]
    }
   ],
   "source": [
    "# Here num1, num2 are parameters\n",
    "def printSum(num1, num2):\n",
    "    print(num1 + num2)\n",
    "    \n",
    "# Here 5, 6 are arguments\n",
    "printSum(5, 6)"
   ]
  },
  {
   "cell_type": "markdown",
   "metadata": {},
   "source": [
    "## Arguments"
   ]
  },
  {
   "cell_type": "markdown",
   "metadata": {},
   "source": [
    "### Positional\n",
    "The order of arguments must match the function's parameter list."
   ]
  },
  {
   "cell_type": "code",
   "execution_count": 3,
   "metadata": {},
   "outputs": [
    {
     "name": "stdout",
     "output_type": "stream",
     "text": [
      "Hello, John!\n"
     ]
    }
   ],
   "source": [
    "def greet(name, greeting):\n",
    "    print(f\"{greeting}, {name}!\")\n",
    "    \n",
    "greet(\"John\", \"Hello\")"
   ]
  },
  {
   "cell_type": "markdown",
   "metadata": {},
   "source": [
    "### Keyword\n",
    "- Specify arguments by\n",
    "parameter name, allowing\n",
    "you to pass them out of\n",
    "order.\n",
    "- More readable and\n",
    "self-explanatory."
   ]
  },
  {
   "cell_type": "code",
   "execution_count": 5,
   "metadata": {},
   "outputs": [
    {
     "name": "stdout",
     "output_type": "stream",
     "text": [
      "Selamat pagi, John!\n"
     ]
    }
   ],
   "source": [
    "def greet(name, greeting):\n",
    "    print(f\"{greeting}, {name}!\")\n",
    "\n",
    "greet(greeting=\"Selamat pagi\", name=\"Hermawan\")"
   ]
  },
  {
   "cell_type": "markdown",
   "metadata": {},
   "source": [
    "### Default\n",
    "If an argument isn't provided, the default value is used."
   ]
  },
  {
   "cell_type": "code",
   "execution_count": 6,
   "metadata": {},
   "outputs": [
    {
     "name": "stdout",
     "output_type": "stream",
     "text": [
      "Hello, Sarah!\n"
     ]
    }
   ],
   "source": [
    "def greet(name, greeting=\"Hello\"):\n",
    "    print(f\"{greeting}, {name}!\")\n",
    "    \n",
    "greet(\"Sarah\")"
   ]
  },
  {
   "cell_type": "markdown",
   "metadata": {},
   "source": [
    "### Arbitrary"
   ]
  },
  {
   "cell_type": "markdown",
   "metadata": {},
   "source": [
    "#### *args\n",
    "- Functions can accept a\n",
    "**variable number of\n",
    "arguments.**\n",
    "- ***args** allows you to pass a\n",
    "variable number of **positional**\n",
    "arguments as a tuple."
   ]
  },
  {
   "cell_type": "code",
   "execution_count": 7,
   "metadata": {},
   "outputs": [
    {
     "name": "stdout",
     "output_type": "stream",
     "text": [
      "Hello\n",
      "1\n",
      "0.9\n",
      "True\n",
      "None\n",
      "[3, 'Hi', True]\n",
      "{'a': 1, 'b': 2}\n",
      "(1, 2, 3)\n",
      "{'c', 'a', 'b'}\n"
     ]
    }
   ],
   "source": [
    "def print_args(*args):\n",
    "    for arg in args:\n",
    "        print(arg)\n",
    "        \n",
    "print_args(\"Hello\", 1, 0.9, True, None, [3, \"Hi\", True], {\"a\": 1, \"b\": 2}, (1, 2, 3), {\"a\", \"b\", \"c\"})"
   ]
  },
  {
   "cell_type": "markdown",
   "metadata": {},
   "source": [
    "#### *kwargs\n",
    "- Functions can accept a\n",
    "**variable number of\n",
    "arguments.**\n",
    "- ****kwargs** allows you to\n",
    "pass a variable number\n",
    "of **keyword** arguments\n",
    "as a dictionary."
   ]
  },
  {
   "cell_type": "code",
   "execution_count": 10,
   "metadata": {},
   "outputs": [
    {
     "name": "stdout",
     "output_type": "stream",
     "text": [
      "name: Hermawan\n",
      "email: senthermawan@apps.ipb.ac.id\n",
      "student_id: J0403231111\n"
     ]
    }
   ],
   "source": [
    "def print_kwargs(**kwargs):\n",
    "    for key, value in kwargs.items():\n",
    "        print(f\"{key}: {value}\")\n",
    "        \n",
    "print_kwargs(name=\"Hermawan\", email=\"senthermawan@apps.ipb.ac.id\", student_id=\"J0403231111\")"
   ]
  },
  {
   "cell_type": "markdown",
   "metadata": {},
   "source": [
    "### Passing Lists/Dictionaries/etc.\n",
    "We can pass lists,\n",
    "dictionaries, or\n",
    "other data\n",
    "structures as\n",
    "arguments to\n",
    "functions."
   ]
  },
  {
   "cell_type": "code",
   "execution_count": 11,
   "metadata": {},
   "outputs": [
    {
     "name": "stdout",
     "output_type": "stream",
     "text": [
      "1\n",
      "2\n",
      "3\n",
      "4\n",
      "5\n",
      "name: Hermawan\n",
      "email: senthermawan@apps.ipb.ac.id\n",
      "student_id: J0403231111\n"
     ]
    }
   ],
   "source": [
    "def print_list(numbers):\n",
    "    for num in numbers:\n",
    "        print(num)\n",
    "print_list([1, 2, 3, 4, 5])\n",
    "\n",
    "def print_dict(dictionary):\n",
    "    for key, value in dictionary.items():\n",
    "        print(f\"{key}: {value}\")\n",
    "print_dict({\"name\": \"Hermawan\", \"email\": \"senthermawan@apps.ipb.ac.id\", \"student_id\": \"J0403231111\"})"
   ]
  },
  {
   "cell_type": "markdown",
   "metadata": {},
   "source": [
    "### Combinations\n",
    "We can pass\n",
    "different argument\n",
    "combinations,\n",
    "including positional,\n",
    "keyword, default,\n",
    "*args, and **kwargs\n",
    "arguments."
   ]
  },
  {
   "cell_type": "code",
   "execution_count": 13,
   "metadata": {},
   "outputs": [
    {
     "name": "stdout",
     "output_type": "stream",
     "text": [
      "Name: Hermawan\n",
      "School: IPB University\n",
      "Hobbies:\n",
      "- Eat\n",
      "- Coding\n",
      "- Sleep\n",
      "Social Media:\n",
      "- linkedin: linkedin.com/in/hrmawanssr/\n",
      "- github: github.com/dark-hermes\n"
     ]
    }
   ],
   "source": [
    "def my_bio(name, *hobbies, school, **social_media):\n",
    "    print(f\"Name: {name}\")\n",
    "    print(f\"School: {school}\")\n",
    "    print(\"Hobbies:\")\n",
    "    for hobby in hobbies:\n",
    "        print(f\"- {hobby}\")\n",
    "    print(\"Social Media:\")\n",
    "    for key, value in social_media.items():\n",
    "        print(f\"- {key}: {value}\")\n",
    "        \n",
    "my_bio(\"Hermawan\", \"Eat\", \"Coding\", \"Sleep\", school=\"IPB University\", linkedin=\"linkedin.com/in/hrmawanssr/\", github=\"github.com/dark-hermes\")"
   ]
  },
  {
   "cell_type": "markdown",
   "metadata": {},
   "source": [
    "## Return Statement\n",
    "- Function may return a value using **return** keyword.\n",
    "- Function with no return statement doesn't return a value (actually it implicitly returns None). Its is called **void** function.\n",
    "- Return statement is used to exit from a function and go back to the function caller and return the specified value or data item to the caller.\n",
    "- The return statement can consist of a variable, an expression, or a constant which is returned at the end of the function execution."
   ]
  },
  {
   "cell_type": "code",
   "execution_count": 14,
   "metadata": {},
   "outputs": [
    {
     "name": "stdout",
     "output_type": "stream",
     "text": [
      "The result is 11\n"
     ]
    }
   ],
   "source": [
    "def add(num1, num2):\n",
    "    return num1 + num2\n",
    "\n",
    "# Call the function with a return value\n",
    "result = add(5, 6)\n",
    "print(f\"The result is {result}\")"
   ]
  },
  {
   "cell_type": "code",
   "execution_count": 16,
   "metadata": {},
   "outputs": [
    {
     "name": "stdout",
     "output_type": "stream",
     "text": [
      "Hello, Zahra!\n"
     ]
    }
   ],
   "source": [
    "def greet(name):\n",
    "    print(f\"Hello, {name}!\")\n",
    "    \n",
    "# Call the function without a return value\n",
    "greet(\"Zahra\")"
   ]
  },
  {
   "cell_type": "markdown",
   "metadata": {},
   "source": [
    "## Function is Executed at Runtime\n",
    "It means that the creation of a\n",
    "function occurs when the\n",
    "program is running, not during\n",
    "the parsing or compilation."
   ]
  },
  {
   "cell_type": "code",
   "execution_count": 17,
   "metadata": {},
   "outputs": [
    {
     "name": "stdout",
     "output_type": "stream",
     "text": [
      "Hello, Hermawan!\n"
     ]
    }
   ],
   "source": [
    "if True:\n",
    "    def greet(name):\n",
    "        print(f\"Hello, {name}!\")\n",
    "else:\n",
    "    def greet(name):\n",
    "        print(f\"Hi, {name}!\")\n",
    "        \n",
    "greet(\"Hermawan\")"
   ]
  },
  {
   "cell_type": "code",
   "execution_count": 18,
   "metadata": {},
   "outputs": [
    {
     "name": "stdout",
     "output_type": "stream",
     "text": [
      "Hello, World!\n",
      "Hello, Python!\n"
     ]
    }
   ],
   "source": [
    "def say_hello():\n",
    "    print(\"Hello, World!\")\n",
    "    \n",
    "greeter = say_hello # Assign function to a variable\n",
    "greeter() # Call the function using the variable\n",
    "\n",
    "def say_hello():\n",
    "    print(\"Hello, Python!\")\n",
    "say_hello() # Call the updated function"
   ]
  },
  {
   "cell_type": "markdown",
   "metadata": {},
   "source": [
    "def statements are not\n",
    "evaluated until they are\n",
    "reached and run, and the\n",
    "code inside defs is not\n",
    "evaluated until the\n",
    "functions are later called."
   ]
  },
  {
   "cell_type": "code",
   "execution_count": 19,
   "metadata": {},
   "outputs": [
    {
     "name": "stdout",
     "output_type": "stream",
     "text": [
      "After the function definition\n"
     ]
    },
    {
     "ename": "ZeroDivisionError",
     "evalue": "division by zero",
     "output_type": "error",
     "traceback": [
      "\u001b[1;31m---------------------------------------------------------------------------\u001b[0m",
      "\u001b[1;31mZeroDivisionError\u001b[0m                         Traceback (most recent call last)",
      "\u001b[1;32md:\\College\\Semester 1\\Dasar Pemrograman\\github\\function.ipynb Cell 33\u001b[0m line \u001b[0;36m7\n\u001b[0;32m      <a href='vscode-notebook-cell:/d%3A/College/Semester%201/Dasar%20Pemrograman/github/function.ipynb#X43sZmlsZQ%3D%3D?line=3'>4</a>\u001b[0m \u001b[39mprint\u001b[39m(\u001b[39m\"\u001b[39m\u001b[39mAfter the function definition\u001b[39m\u001b[39m\"\u001b[39m)\n\u001b[0;32m      <a href='vscode-notebook-cell:/d%3A/College/Semester%201/Dasar%20Pemrograman/github/function.ipynb#X43sZmlsZQ%3D%3D?line=5'>6</a>\u001b[0m \u001b[39m# It's okay to define a function but not call it\u001b[39;00m\n\u001b[1;32m----> <a href='vscode-notebook-cell:/d%3A/College/Semester%201/Dasar%20Pemrograman/github/function.ipynb#X43sZmlsZQ%3D%3D?line=6'>7</a>\u001b[0m result \u001b[39m=\u001b[39m divide_by_zero(\u001b[39m2\u001b[39m) \u001b[39m# comment this line to avoid error\u001b[39;00m\n\u001b[0;32m      <a href='vscode-notebook-cell:/d%3A/College/Semester%201/Dasar%20Pemrograman/github/function.ipynb#X43sZmlsZQ%3D%3D?line=7'>8</a>\u001b[0m \u001b[39mprint\u001b[39m(\u001b[39m\"\u001b[39m\u001b[39mAfter the function call\u001b[39m\u001b[39m\"\u001b[39m)\n",
      "\u001b[1;32md:\\College\\Semester 1\\Dasar Pemrograman\\github\\function.ipynb Cell 33\u001b[0m line \u001b[0;36m2\n\u001b[0;32m      <a href='vscode-notebook-cell:/d%3A/College/Semester%201/Dasar%20Pemrograman/github/function.ipynb#X43sZmlsZQ%3D%3D?line=0'>1</a>\u001b[0m \u001b[39mdef\u001b[39;00m \u001b[39mdivide_by_zero\u001b[39m(num):\n\u001b[1;32m----> <a href='vscode-notebook-cell:/d%3A/College/Semester%201/Dasar%20Pemrograman/github/function.ipynb#X43sZmlsZQ%3D%3D?line=1'>2</a>\u001b[0m     \u001b[39mreturn\u001b[39;00m num \u001b[39m*\u001b[39m \u001b[39m2\u001b[39m \u001b[39m/\u001b[39m (num \u001b[39m-\u001b[39m num)\n",
      "\u001b[1;31mZeroDivisionError\u001b[0m: division by zero"
     ]
    }
   ],
   "source": [
    "def divide_by_zero(num):\n",
    "    return num * 2 / (num - num)\n",
    "\n",
    "print(\"After the function definition\")\n",
    "\n",
    "# It's okay to define a function but not call it\n",
    "result = divide_by_zero(2) # comment this line to avoid error\n",
    "print(\"After the function call\")\n"
   ]
  },
  {
   "cell_type": "markdown",
   "metadata": {},
   "source": [
    "## Function is First Class Object\n",
    "Which means we can treat\n",
    "function like any other\n",
    "object, such as assigning\n",
    "them to variables, passing\n",
    "them as arguments to\n",
    "other functions, and\n",
    "returning them from other\n",
    "functions."
   ]
  },
  {
   "cell_type": "code",
   "execution_count": 20,
   "metadata": {},
   "outputs": [
    {
     "name": "stdout",
     "output_type": "stream",
     "text": [
      "3\n"
     ]
    }
   ],
   "source": [
    "def increment(num):\n",
    "    return num + 1\n",
    "\n",
    "add_one = increment\n",
    "\n",
    "result = add_one(2) # Call the function using the variable\n",
    "print(result)\n"
   ]
  },
  {
   "cell_type": "markdown",
   "metadata": {},
   "source": [
    "Passing a function as\n",
    "an argument to\n",
    "another function"
   ]
  },
  {
   "cell_type": "code",
   "execution_count": 21,
   "metadata": {},
   "outputs": [
    {
     "name": "stdout",
     "output_type": "stream",
     "text": [
      "4\n"
     ]
    }
   ],
   "source": [
    "def apply(func, x):\n",
    "    return func(x)\n",
    "\n",
    "def square(x):\n",
    "    return x * x\n",
    "\n",
    "result = apply(square, 2)\n",
    "print(result)"
   ]
  },
  {
   "cell_type": "markdown",
   "metadata": {},
   "source": [
    "Returning a function\n",
    "from another\n",
    "function"
   ]
  },
  {
   "cell_type": "code",
   "execution_count": 22,
   "metadata": {},
   "outputs": [
    {
     "name": "stdout",
     "output_type": "stream",
     "text": [
      "10\n",
      "15\n"
     ]
    }
   ],
   "source": [
    "def get_multiplier(factor):\n",
    "    def inner(a):\n",
    "        return a * factor\n",
    "    return inner\n",
    "\n",
    "double = get_multiplier(2)\n",
    "triple = get_multiplier(3)\n",
    "\n",
    "print(double(5))\n",
    "print(triple(5))"
   ]
  },
  {
   "cell_type": "markdown",
   "metadata": {},
   "source": [
    "## Scope\n",
    "Refers to the region which a variable or name can be accessed.<br>\n",
    "4 types of scope (LEGB):\n",
    "- **Local Scope (L)**<br>This is the innermost scope. Variables defined within a function are in the\n",
    "local scope and can only be accessed within that function.\n",
    "- **Enclosing Scope (E)**<br>This refers to the scope of the containing or enclosing function when\n",
    "dealing with nested functions. If a variable is not found in the local scope, Python will\n",
    "search in the enclosing scope before going to the global scope.\n",
    "- **Global Scope (G)**<br>This is the scope at the top level of a Python script or module. Variables\n",
    "defined at this level are called global variables and can be accessed from anywhere in the\n",
    "module or script.\n",
    "- **Built-in Scope (B)**<br>This is the outermost scope and contains Python's built-in functions and\n",
    "objects (e.g., print, len, str, etc.). These built-in names are always accessible from any part\n",
    "of your code."
   ]
  },
  {
   "cell_type": "code",
   "execution_count": 24,
   "metadata": {},
   "outputs": [
    {
     "name": "stdout",
     "output_type": "stream",
     "text": [
      "Value inside function: 10\n",
      "20\n",
      "30\n",
      "13\n"
     ]
    }
   ],
   "source": [
    "def my_function():\n",
    "    x = 10 # local variable\n",
    "    print(\"Value inside function:\", x)\n",
    "my_function()\n",
    "\n",
    "def outer_function():\n",
    "    y = 20 # y is in the enclosing scope\n",
    "    def inner_function():\n",
    "        print(y)\n",
    "    inner_function()\n",
    "outer_function()\n",
    "        \n",
    "z = 30 # z is in the global scope\n",
    "def another_function():\n",
    "    print(z) # z can be accessed here\n",
    "another_function()\n",
    "    \n",
    "print(len(\"Hello, World!\")) # len is a built-in function"
   ]
  },
  {
   "cell_type": "markdown",
   "metadata": {},
   "source": [
    "### Global Keyword\n",
    "Global keyword is\n",
    "used if we want to\n",
    "modify a global\n",
    "variable from\n",
    "within a function.<br><br>\n",
    "It indicated that we\n",
    "want to work with\n",
    "the global variable,\n",
    "rather than\n",
    "creating a new\n",
    "local variable with\n",
    "the same name."
   ]
  },
  {
   "cell_type": "code",
   "execution_count": 26,
   "metadata": {},
   "outputs": [
    {
     "name": "stdout",
     "output_type": "stream",
     "text": [
      "20\n"
     ]
    }
   ],
   "source": [
    "global_var = 10 # a global variable\n",
    "\n",
    "def modify_global():\n",
    "    global global_var # use the global keyword to modify the global variable\n",
    "    global_var = 20\n",
    "    \n",
    "modify_global()\n",
    "print(global_var)"
   ]
  },
  {
   "cell_type": "markdown",
   "metadata": {},
   "source": [
    "## Pass by Object Reference\n",
    "When passes\n",
    "objects as function\n",
    "arguments. Whether\n",
    "the original object\n",
    "affected, depends\n",
    "on the object's\n",
    "mutability and and\n",
    "the operations\n",
    "performed."
   ]
  },
  {
   "cell_type": "code",
   "execution_count": 27,
   "metadata": {},
   "outputs": [
    {
     "name": "stdout",
     "output_type": "stream",
     "text": [
      "[1, 2, 3, 4]\n",
      "[1, 2, 3]\n"
     ]
    }
   ],
   "source": [
    "def modify_list(lst):\n",
    "    lst.append(4) # this affects the caller!\n",
    "    \n",
    "my_list = [1, 2, 3]\n",
    "modify_list(my_list)\n",
    "print(my_list)\n",
    "\n",
    "def reassign_list(lst):\n",
    "    lst = [4, 5, 6] # this creates a new local variable\n",
    "\n",
    "my_list = [1, 2, 3]\n",
    "reassign_list(my_list)\n",
    "print(my_list)"
   ]
  },
  {
   "cell_type": "markdown",
   "metadata": {},
   "source": [
    "In this example, my_integer\n",
    "is an integer. When you pass it\n",
    "to the modify_integer\n",
    "function and try to modify it by\n",
    "incrementing, it does not\n",
    "affect the original integer\n",
    "because integers are\n",
    "**immutable**. Instead, a new\n",
    "integer object is created within\n",
    "the function."
   ]
  },
  {
   "cell_type": "code",
   "execution_count": 28,
   "metadata": {},
   "outputs": [
    {
     "name": "stdout",
     "output_type": "stream",
     "text": [
      "10\n"
     ]
    }
   ],
   "source": [
    "def modify_integer(i):\n",
    "    i += 1 # this creates a new local variable\n",
    "    \n",
    "my_int = 10\n",
    "modify_integer(my_int)\n",
    "print(my_int)"
   ]
  },
  {
   "cell_type": "markdown",
   "metadata": {},
   "source": [
    "## Function Overloading\n",
    "Python does not support function\n",
    "overloading with different\n",
    "parameter types, as seen in some\n",
    "other programming languages.<br>\n",
    "Functions with the same name in\n",
    "the same scope will simply\n",
    "overwrite each other.<br>\n",
    "To achieve similar behavior, we\n",
    "can use default arguments or\n",
    "variable-length argument lists\n",
    "(*args and **kwargs)."
   ]
  },
  {
   "cell_type": "code",
   "execution_count": 29,
   "metadata": {},
   "outputs": [
    {
     "name": "stdout",
     "output_type": "stream",
     "text": [
      "120\n"
     ]
    }
   ],
   "source": [
    "def product(num1, num2):\n",
    "    return num1 * num2\n",
    "\n",
    "def product(num1, num2, num3):\n",
    "    return num1 * num2 * num3\n",
    "\n",
    "# print(product(4, 5)) # this will cause an error\n",
    "\n",
    "print(product(4, 5, 6))"
   ]
  },
  {
   "cell_type": "code",
   "execution_count": 30,
   "metadata": {},
   "outputs": [
    {
     "name": "stdout",
     "output_type": "stream",
     "text": [
      "20\n",
      "120\n"
     ]
    }
   ],
   "source": [
    "def product(*args):\n",
    "    result = 1\n",
    "    for num in args:\n",
    "        result *= num\n",
    "    return result\n",
    "\n",
    "print(product(4, 5))\n",
    "print(product(4, 5, 6))"
   ]
  },
  {
   "cell_type": "markdown",
   "metadata": {},
   "source": [
    "## Function Recursion\n",
    "It means that a function calls itself.<br>\n",
    "Can be used for the problem that\n",
    "can be divided into smaller, similar\n",
    "sub-problems or involves recursive\n",
    "data structures like trees or\n",
    "graphs.<br>\n",
    "Be careful with infinite recursion\n",
    "(use proper termination condition)\n",
    "and performance effect,e.g.\n",
    "excessive memory usage."
   ]
  },
  {
   "cell_type": "code",
   "execution_count": 31,
   "metadata": {},
   "outputs": [
    {
     "name": "stdout",
     "output_type": "stream",
     "text": [
      "120\n"
     ]
    }
   ],
   "source": [
    "def factorial(n):\n",
    "    if n <= 1:\n",
    "        return 1\n",
    "    return n * factorial(n - 1)\n",
    "\n",
    "result = factorial(5)\n",
    "print(result)"
   ]
  },
  {
   "cell_type": "markdown",
   "metadata": {},
   "source": [
    "## Error Handling\n",
    "- **Identify Potential Errors**<br>Identify the potential errors that your function may encounter.\n",
    "This could include exceptions like TypeError, ValueError, IOError, and custom exceptions\n",
    "you define.\n",
    "- **Use Try-Except Blocks**<br>Wrap the code that may raise exceptions within a try block. Then,\n",
    "use one or more except blocks to handle specific types of exceptions that might occur. If\n",
    "an exception is raised, the code in the corresponding except block is executed.\n",
    "- **Handle Exceptions Gracefully**<br>In the except block, handle the exception gracefully. This\n",
    "might involve logging the error, providing a user-friendly error message, or taking\n",
    "corrective action. You can also raise a custom exception if needed.\n",
    "- **Multiple Except Blocks**<br>You can use multiple except blocks to handle different types of\n",
    "exceptions. Handle the most specific exceptions first and more general ones later. This\n",
    "ensures that the correct block is executed based on the exception type.\n",
    "- **Use Finally Blocks (Optional)**<br>You can use a finally block to specify code that should be\n",
    "executed regardless of whether an exception occurred or not. This is useful for cleanup\n",
    "tasks, such as closing files or network connections."
   ]
  },
  {
   "cell_type": "code",
   "execution_count": 33,
   "metadata": {},
   "outputs": [
    {
     "name": "stdout",
     "output_type": "stream",
     "text": [
      "2.0\n",
      "Division operation completed!\n",
      "\n",
      "Cannot divide by zero!\n",
      "Division operation completed!\n",
      "\n",
      "Both arguments must be numbers!\n",
      "Division operation completed!\n"
     ]
    }
   ],
   "source": [
    "def divide(num1, num2):\n",
    "    try:\n",
    "        result = num1 / num2\n",
    "    except ZeroDivisionError:\n",
    "        print(\"Cannot divide by zero!\")\n",
    "    except TypeError:\n",
    "        print(\"Both arguments must be numbers!\")\n",
    "    except Exception as e:\n",
    "        print(f\"Unknown error occurred: {e}\")\n",
    "    else:\n",
    "        print(result)\n",
    "    finally:\n",
    "        print(\"Division operation completed!\")\n",
    "        \n",
    "divide(4, 2)\n",
    "print()\n",
    "divide(4, 0)\n",
    "print()\n",
    "divide(4, \"2\")"
   ]
  },
  {
   "cell_type": "markdown",
   "metadata": {},
   "source": [
    "## Docstrings\n",
    "- Special strings used to document modules, classes, functions, and\n",
    "methods. They provide a way to describe what a particular piece of code\n",
    "does, how to use it, and other relevant information. It makes code more\n",
    "understandable and are an essential part of good documentation.\n",
    "- Syntax: Docstrings are enclosed in triple-quotes (''' or \"\"\") and are placed\n",
    "immediately after the definition of a module, class, function, or method.\n",
    "- Content: A good docstring typically consists of three parts:\n",
    "    - A one-line summary of what the code does (often referred to as the\n",
    "\"one-liner\").\n",
    "    - A more detailed description of the code's functionality, including input\n",
    "parameters, return values, and exceptions (if applicable).\n",
    "    - Optional sections that may include examples of how to use the code,\n",
    "additional notes, or references."
   ]
  },
  {
   "cell_type": "code",
   "execution_count": 35,
   "metadata": {},
   "outputs": [
    {
     "name": "stdout",
     "output_type": "stream",
     "text": [
      "9\n",
      "Help on function add_int in module __main__:\n",
      "\n",
      "add_int(num1, num2)\n",
      "    This function adds two integers\n",
      "    \n",
      "    Args:\n",
      "        num1 (int): The first number\n",
      "        num2 (int): The second number\n",
      "        \n",
      "    Returns:\n",
      "        int: The sum of num1 and num2\n",
      "    \n",
      "    Example:\n",
      "        >>> add_int(4, 5)\n",
      "        9\n",
      "\n"
     ]
    }
   ],
   "source": [
    "def add_int(num1, num2):\n",
    "    \"\"\"This function adds two integers\n",
    "\n",
    "    Args:\n",
    "        num1 (int): The first number\n",
    "        num2 (int): The second number\n",
    "        \n",
    "    Returns:\n",
    "        int: The sum of num1 and num2\n",
    "    \n",
    "    Example:\n",
    "        >>> add_int(4, 5)\n",
    "        9\n",
    "    \"\"\"\n",
    "    \n",
    "    try:\n",
    "        if not isinstance(num1, int) or not isinstance(num2, int):\n",
    "            raise TypeError(\"Both arguments must be integers!\")\n",
    "        return num1 + num2\n",
    "    except TypeError:\n",
    "        print(\"Both arguments must be integers!\")\n",
    "        \n",
    "print(add_int(4, 5))\n",
    "\n",
    "help(add_int)"
   ]
  },
  {
   "cell_type": "markdown",
   "metadata": {},
   "source": [
    "## Naming Conventions\n",
    "PEP 8 (Python Enhancement Proposal 8) is the style guide for Python code. It\n",
    "provides recommendations on how to format Python code for readability and\n",
    "consistency.\n",
    "- Function names should be lowercase, with words separated by underscores\n",
    "(snake_case). For examples: ```calculate_area```, ```get_user_input```,\n",
    "```is_valid_email```.\n",
    "- It's acceptable to use abbreviations or acronyms in function names, but choose\n",
    "them wisely and ensure they are clear and easily understood.\n",
    "- Incorporate additional information or context into function names to make them\n",
    "more meaningful. For example, a function that calculates the area of a rectangle\n",
    "might be named ```calculate_rectangle_area```, which provides clear context\n",
    "about what the function does."
   ]
  },
  {
   "cell_type": "markdown",
   "metadata": {},
   "source": []
  }
 ],
 "metadata": {
  "kernelspec": {
   "display_name": "base",
   "language": "python",
   "name": "python3"
  },
  "language_info": {
   "codemirror_mode": {
    "name": "ipython",
    "version": 3
   },
   "file_extension": ".py",
   "mimetype": "text/x-python",
   "name": "python",
   "nbconvert_exporter": "python",
   "pygments_lexer": "ipython3",
   "version": "3.11.4"
  }
 },
 "nbformat": 4,
 "nbformat_minor": 2
}
