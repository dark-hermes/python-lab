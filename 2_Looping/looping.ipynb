{
 "cells": [
  {
   "cell_type": "markdown",
   "metadata": {},
   "source": [
    "Hermawan Sentyaki Sarjito<br>\n",
    "J0403231111<br>\n",
    "senthermawan@apps.ipb.ac.id\n",
    "<br>\n",
    "https://github.com/dark-hermes\n",
    "\n",
    "Tribute to [Danan Purwantoro, S.T., M.Kom.](https://github.com/pakdanan \"https://github.com/pakdanan\") as a practitioner lecturer at IPB University."
   ]
  },
  {
   "cell_type": "markdown",
   "metadata": {},
   "source": [
    "# Loop in Python"
   ]
  },
  {
   "cell_type": "markdown",
   "metadata": {},
   "source": [
    "## While Loop\n",
    "- A while loop is based upon a condition being true. Once the condition is no longer true the loop stops. \n",
    "- The amount of times the while loop is executed is not known ahead of time as it is with the for loop."
   ]
  },
  {
   "cell_type": "markdown",
   "metadata": {},
   "source": [
    "### General Format\n",
    "The **while** statement consists of a header line with a **test condition**, a body of **statements**, and an optional **else** part that is executed if control exits the loop without a break statement being encountered.\n",
    "\n",
    "Python keeps evaluating the test at the top and executing the statements nested in the loop body until the test returns a false value.\n",
    "\n",
    "The **break** and **continue** statements also work to control the loop.\n",
    "\n",
    "```python\n",
    "while test: # Loop test\n",
    "    statements # Loop body\n",
    "    if test: break # Exit loop now, skip else if present\n",
    "    if test: continue # Go to top of loop now\n",
    "else:\n",
    "    statements # Run if we didn't hit a 'break'\n"
   ]
  },
  {
   "cell_type": "markdown",
   "metadata": {},
   "source": [
    "### Iteration Variable\n",
    "Loops (repeated steps) have iteration variables that change each time through a loop.  Often these iteration variables go through a sequence of numbers.\n"
   ]
  },
  {
   "cell_type": "code",
   "execution_count": 1,
   "metadata": {},
   "outputs": [
    {
     "name": "stdout",
     "output_type": "stream",
     "text": [
      "One of my favorite fruits is apple and it is 5 characters long.\n",
      "One of my favorite fruits is banana and it is 6 characters long.\n",
      "One of my favorite fruits is orange and it is 6 characters long.\n",
      "One of my favorite fruits is grape and it is 5 characters long.\n",
      "One of my favorite fruits is pineapple and it is 9 characters long.\n"
     ]
    }
   ],
   "source": [
    "favorites = ['apple', 'banana', 'orange', 'grape', 'pineapple']\n",
    "count = 0 # iteration counter\n",
    "\n",
    "while count < len(favorites):\n",
    "    print(\"One of my favorite fruits is\", favorites[count], \"and it is\", len(favorites[count]), \"characters long.\")\n",
    "    count += 1"
   ]
  },
  {
   "cell_type": "markdown",
   "metadata": {},
   "source": [
    "Calculate the growth of a bacterial colony using a simple exponential growth model, which is essentially a calculation of compound interest:\n",
    ">P(t + 1) = P(t) + rP(t)\n",
    "\n",
    "In this formula, P(t) is the population size at time t and r is the growth rate.\n"
   ]
  },
  {
   "cell_type": "code",
   "execution_count": 3,
   "metadata": {},
   "outputs": [
    {
     "name": "stdout",
     "output_type": "stream",
     "text": [
      "1210\n",
      "1464\n",
      "1772\n",
      "2144\n",
      "It took 4 minutes for the bacteria to double.\n",
      "The final population was 2144 bacteria.\n"
     ]
    }
   ],
   "source": [
    "time = 0\n",
    "population = 1000 # initial population\n",
    "growth_rate = 0.21 # 21% growth per minute\n",
    "while population < 2000:\n",
    "    population = population + growth_rate * population\n",
    "    print(round(population))\n",
    "    time += 1\n",
    "print(\"It took\", time, \"minutes for the bacteria to double.\")\n",
    "print(\"The final population was\", round(population), \"bacteria.\")"
   ]
  },
  {
   "cell_type": "markdown",
   "metadata": {},
   "source": [
    "### Infinite Loop\n",
    "We get an infinite loop when the condition is always True."
   ]
  },
  {
   "cell_type": "code",
   "execution_count": null,
   "metadata": {},
   "outputs": [],
   "source": [
    "while True: # Constant condition\n",
    "    print(\"This is an infinite loop!\")"
   ]
  },
  {
   "cell_type": "code",
   "execution_count": null,
   "metadata": {},
   "outputs": [],
   "source": [
    "flag = True # flag that never changes\n",
    "while flag:\n",
    "    print(\"This is an infinite loop!\")"
   ]
  },
  {
   "cell_type": "code",
   "execution_count": null,
   "metadata": {},
   "outputs": [],
   "source": [
    "x = 5\n",
    "while x > 0:\n",
    "    print(\"This loop will run forever.\")\n",
    "x -= 1 # Logical error, x never changes"
   ]
  },
  {
   "cell_type": "markdown",
   "metadata": {},
   "source": [
    "The preceding example used population < 2000 as a loop condition so that the loop stopped when the population reached double its initial size or more. What would happen if we stopped only when the population was exactly double its initial size?"
   ]
  },
  {
   "cell_type": "code",
   "execution_count": null,
   "metadata": {},
   "outputs": [],
   "source": [
    "# Use multivalued assignment to set up controls\n",
    "time, population, growth_rate = 0, 1000, 0.21\n",
    "# Don't stop until we're exactly double the original size\n",
    "while population != 2000:\n",
    "    population = population + growth_rate * population\n",
    "    print(round(population))\n",
    "    time += 1\n",
    "print(\"It took\", time, \"minutes for the bacteria to double.\")\n"
   ]
  },
  {
   "cell_type": "markdown",
   "metadata": {},
   "source": [
    "#### How to Avoid Infinite Loop?\n",
    "- Use a clear and **appropriate loop condition**, such as while, for, or if, to specify when the loop should terminate.\n",
    "- Ensure that the loop **control variable** (e.g., index or counter) is properly updated inside the loop.\n",
    "- Consider using a **break** statement to exit the loop when a specific condition is met.\n",
    "- Be cautious with **while True** loops, and always provide a way to exit them, such as **user input** or a **time limit.**\n",
    "- Avoid **logic errors** that may inadvertently lead to infinite loops, like forgetting to update loop variables.\n"
   ]
  },
  {
   "cell_type": "code",
   "execution_count": 4,
   "metadata": {},
   "outputs": [
    {
     "name": "stdout",
     "output_type": "stream",
     "text": [
      "Ammonia\n",
      "Water\n",
      "Unknown compound\n",
      "...exiting program\n"
     ]
    }
   ],
   "source": [
    "text = ''\n",
    "while text != 'q': # not use while True\n",
    "    text = input(\"Please enter a chemical formula (or q to quit): \") # prompt the user for input\n",
    "    if text == 'q':\n",
    "        print(\"...exiting program\")\n",
    "        break # exit the while loop\n",
    "    elif text == \"H20\":\n",
    "        print(\"Water\")\n",
    "    elif text == \"NH3\":\n",
    "        print(\"Ammonia\")\n",
    "    elif text == \"CH4\":\n",
    "        print(\"Methane\")\n",
    "    else:\n",
    "        print(\"Unknown compound\")"
   ]
  },
  {
   "cell_type": "markdown",
   "metadata": {},
   "source": [
    "## For Loop\n",
    "A for loop is a control flow statement used to iterate over a set of items (iterable object). It allows you to execute a block of code repeatedly for each item in the iterable.\n",
    "\n",
    "It is called **definite loop** because it execute an exact number of times. Definite loops (for loops) have explicit iteration variables that change each time through a loop.  These iteration variables move through the sequence or set.\n",
    "\n",
    "**Iterable object** is object that implement iterator (a way to access their elements sequentially one at a time),e.g., List,Tuple, String, Range, Set, Dictionary.\n"
   ]
  },
  {
   "cell_type": "markdown",
   "metadata": {},
   "source": [
    "### General Format\n",
    "For loop begins with a header line that specifies an iteration variable, along with the object you want to step through. The header is followed by a block of statements that we want to repeat.\n",
    "\n",
    "The **for** statement also supports an optional **else** block—it’s executed if the loop exits without running into a break statement.\n",
    "\n",
    "The **break** and **continue** statements also work to control the loop.\n",
    "\n",
    "```python\n",
    "for i in object: # assign object items to iteration variable\n",
    "    statements # repeated loop body: use iteration variable\n",
    "    if test: break # exit loop now, skip else\n",
    "    if test: continue # Go top top of loop now\n",
    "else: # optional else part\n",
    "    statements # if we didn't hit a 'break'\n",
    "```\n",
    "Definite loops (for loops) have explicit iteration variables that change each time through a loop.  These iteration variables move through the sequence or set."
   ]
  },
  {
   "cell_type": "code",
   "execution_count": 5,
   "metadata": {},
   "outputs": [
    {
     "name": "stdout",
     "output_type": "stream",
     "text": [
      "One of my favorite programming languages is Python\n",
      "One of my favorite programming languages is JavaScript\n",
      "One of my favorite programming languages is C++\n",
      "One of my favorite programming languages is Dart\n",
      "One of my favorite programming languages is Rust\n"
     ]
    }
   ],
   "source": [
    "favorites = ['Python', 'JavaScript', 'C++', 'Dart', 'Rust']\n",
    "for fav in favorites:\n",
    "    print(\"One of my favorite programming languages is\", fav)"
   ]
  },
  {
   "cell_type": "markdown",
   "metadata": {},
   "source": [
    "## Loop Patterns\n",
    "Loops are generally constructed by:\n",
    "1. Initializing one or more variables before the loop starts\n",
    "2. Performing some computation on each item in the loop body, possibly changing the variables in the body of the loop\n",
    "3. Looking at the resulting variables when the loop completes\n"
   ]
  },
  {
   "cell_type": "markdown",
   "metadata": {},
   "source": [
    "## Processing All Items\n",
    "Looping through a set of items (iterable objects) and processing each item.\n"
   ]
  },
  {
   "cell_type": "code",
   "execution_count": 6,
   "metadata": {},
   "outputs": [
    {
     "name": "stdout",
     "output_type": "stream",
     "text": [
      "IPB University"
     ]
    }
   ],
   "source": [
    "university = \"IPB University\"\n",
    "for char in university:\n",
    "    print(char, end='')"
   ]
  },
  {
   "cell_type": "code",
   "execution_count": 7,
   "metadata": {},
   "outputs": [
    {
     "name": "stdout",
     "output_type": "stream",
     "text": [
      "January has 7 characters.\n",
      "February has 8 characters.\n",
      "March has 5 characters.\n",
      "April has 5 characters.\n",
      "May has 3 characters.\n",
      "June has 4 characters.\n",
      "July has 4 characters.\n",
      "August has 6 characters.\n",
      "September has 9 characters.\n",
      "October has 7 characters.\n",
      "November has 8 characters.\n",
      "December has 8 characters.\n"
     ]
    }
   ],
   "source": [
    "months = [\"January\", \"February\", \"March\", \"April\", \"May\", \"June\", \"July\", \"August\", \"September\", \"October\", \"November\", \"December\"] # list of months\n",
    "for month in months:\n",
    "    print(month, \"has\", len(month), \"characters.\")"
   ]
  },
  {
   "cell_type": "markdown",
   "metadata": {},
   "source": [
    "## Counting\n",
    "Count how many times we execute a loop, we introduce a counter variable that starts at 0 and we add one to it each time through the loop.\n"
   ]
  },
  {
   "cell_type": "code",
   "execution_count": 8,
   "metadata": {},
   "outputs": [
    {
     "name": "stdout",
     "output_type": "stream",
     "text": [
      "There are 5 positive responses.\n"
     ]
    }
   ],
   "source": [
    "survey_responses = [\"positive\", \"positive\", \"negative\", \"positive\", \"neutral\", \"positive\", \"negative\", \"neutral\", \"positive\", \"negative\"]\n",
    "num_positive = 0 # count the number of positive responses\n",
    "for response in survey_responses:\n",
    "    if response == \"positive\":\n",
    "        num_positive += 1\n",
    "print(\"There are\", num_positive, \"positive responses.\")"
   ]
  },
  {
   "cell_type": "markdown",
   "metadata": {},
   "source": [
    "## Summing\n",
    "To add up a value we encounter in a loop,  we introduce a sum variable that starts at 0 and we add the value to the sum each time through the loop.\n"
   ]
  },
  {
   "cell_type": "code",
   "execution_count": 9,
   "metadata": {},
   "outputs": [
    {
     "name": "stdout",
     "output_type": "stream",
     "text": [
      "Total revenue: $155.31\n"
     ]
    }
   ],
   "source": [
    "sales_transactions = [15.22, 13.11, 12.34, 14.22, 15.33, 14.44, 15.66, 12.22, 14.33, 15.22, 13.22]\n",
    "total_revenue = 0\n",
    "\n",
    "for transaction in sales_transactions:\n",
    "    total_revenue += transaction\n",
    "print(f\"Total revenue: ${total_revenue:.2f}\")"
   ]
  },
  {
   "cell_type": "markdown",
   "metadata": {},
   "source": [
    "## Filtering\n",
    "We use an if statement in the loop to catch / filter the values we are looking for.\n"
   ]
  },
  {
   "cell_type": "code",
   "execution_count": 10,
   "metadata": {},
   "outputs": [
    {
     "name": "stdout",
     "output_type": "stream",
     "text": [
      "Spam emails:\n",
      "user1@spam.com\n",
      "user3@spam.com\n"
     ]
    }
   ],
   "source": [
    "email_addresses = [\"user1@spam.com\", \"user2@mail.com\", \"user3@spam.com\"]\n",
    "spam_emails = [] # empty list to store spammers\n",
    "\n",
    "for email in email_addresses:\n",
    "    if email.endswith(\"@spam.com\"):\n",
    "        spam_emails.append(email)\n",
    "print(\"Spam emails:\")\n",
    "for email in spam_emails:\n",
    "    print(email)"
   ]
  },
  {
   "cell_type": "markdown",
   "metadata": {},
   "source": [
    "## Searching\n",
    "If we just want to search and know if a value was found, we use a variable that starts at False and is set to True as soon as we find what we are looking for.\n"
   ]
  },
  {
   "cell_type": "code",
   "execution_count": 11,
   "metadata": {},
   "outputs": [
    {
     "name": "stdout",
     "output_type": "stream",
     "text": [
      "Student Hermawan found.\n"
     ]
    }
   ],
   "source": [
    "student_names = [\"Hansen\", \"Agus\", \"Hermawan\", \"Ferdi\"]\n",
    "student_name_to_find = \"Hermawan\"\n",
    "\n",
    "student_found = False\n",
    "\n",
    "for name in student_names:\n",
    "    if name == student_name_to_find:\n",
    "        student_found = True\n",
    "        break\n",
    "\n",
    "if student_found:\n",
    "    print(f\"Student {student_name_to_find} found.\")\n",
    "else:\n",
    "    print(f\"Student {student_name_to_find} not found.\")"
   ]
  },
  {
   "cell_type": "markdown",
   "metadata": {},
   "source": [
    "## Finding Maximum Minimum\n",
    "We initialize variable (e.g. “max_temperature”) with the first value from the list (e.g. “temperatures”) and then use a for loop to iterate through the list, updating the variable if a higher/smaller value is found (depends on what we want to find maximum/minimum).\n"
   ]
  },
  {
   "cell_type": "code",
   "execution_count": 12,
   "metadata": {},
   "outputs": [
    {
     "name": "stdout",
     "output_type": "stream",
     "text": [
      "The maximum temperature is 42.7 degrees Celsius.\n"
     ]
    }
   ],
   "source": [
    "temperatures = [29.5, 16.3, 42.7, 18.9, 24.2, 28.8, 40.1, 29.8, 27.9, 30.5, 29.8, 31.7, 26.5, 29.2, 31.5, 35.3, 38.7, 40.1, 41.0, 42.3, 41.5, 39.2, 35.8, 31.6]\n",
    "max_temp = temperatures[0] # set initial max to first value in list\n",
    "\n",
    "for temp in temperatures:\n",
    "    if temp > max_temp:\n",
    "        max_temp = temp\n",
    "print(f\"The maximum temperature is {max_temp} degrees Celsius.\")"
   ]
  },
  {
   "cell_type": "markdown",
   "metadata": {},
   "source": [
    "## range() Function\n",
    "- range() is built-in function that returns a sequence of numbers, starting from 0 by default, and increments by 1 (by default), and stops before a specified number.\n",
    "- Syntax: range(start, stop, step)\n",
    "    - start\t (optional): starting value of the sequence (inclusive). Default is 0.\n",
    "    - stop: ending value of the sequence (exclusive).\n",
    "    - step\t(optional): step size/interval between values in sequence. Default is 1.\n"
   ]
  },
  {
   "cell_type": "code",
   "execution_count": 14,
   "metadata": {},
   "outputs": [
    {
     "name": "stdout",
     "output_type": "stream",
     "text": [
      "[0, 1, 2, 3, 4]\n",
      "[3, 4, 5]\n",
      "[2, 4, 6, 8, 10]\n"
     ]
    }
   ],
   "source": [
    "print(list(range(5)))\n",
    "print(list(range(3, 6)))\n",
    "print(list(range(2, 11, 2)))"
   ]
  },
  {
   "cell_type": "markdown",
   "metadata": {},
   "source": [
    "### Looping Over a Range of Numbers (Using range())"
   ]
  },
  {
   "cell_type": "code",
   "execution_count": 16,
   "metadata": {},
   "outputs": [
    {
     "name": "stdout",
     "output_type": "stream",
     "text": [
      "5...4...3...2...1...Go!\n"
     ]
    }
   ],
   "source": [
    "import time\n",
    "countdown_seconds = 5\n",
    "for seconds in reversed(range(countdown_seconds + 1)):\n",
    "    if seconds > 0:\n",
    "        print(seconds, end='...')\n",
    "        time.sleep(1)\n",
    "print(\"Go!\")"
   ]
  },
  {
   "cell_type": "code",
   "execution_count": 20,
   "metadata": {},
   "outputs": [
    {
     "name": "stdout",
     "output_type": "stream",
     "text": [
      "<< Dummiest Calendar >>\n",
      "Su Mo Tu We Th Fr Sa\n",
      " 1  2  3  4  5  6  7 \n",
      " 8  9 10 11 12 13 14 \n",
      "15 16 17 18 19 20 21 \n",
      "22 23 24 25 26 27 28 \n",
      "29 30 "
     ]
    }
   ],
   "source": [
    "days_in_month = 30\n",
    "start_day = 1\n",
    "\n",
    "print(\"<< Dummiest Calendar >>\")\n",
    "print(\"Su Mo Tu We Th Fr Sa\")\n",
    "for day in range(1, days_in_month + 1):\n",
    "    print(f\"{day:2d}\", end=' ')\n",
    "    if (start_day + day - 1) % 7 == 0: # if it's Saturday, wrap back to Sunday\n",
    "        print()"
   ]
  },
  {
   "cell_type": "markdown",
   "metadata": {},
   "source": [
    "## Nesting Loops in Loops\n",
    "The block of statements inside a loop can contain another loop."
   ]
  },
  {
   "cell_type": "code",
   "execution_count": 21,
   "metadata": {},
   "outputs": [
    {
     "name": "stdout",
     "output_type": "stream",
     "text": [
      "LiF\n",
      "LiCl\n",
      "LiBr\n",
      "NaF\n",
      "NaCl\n",
      "NaBr\n",
      "KF\n",
      "KCl\n",
      "KBr\n"
     ]
    }
   ],
   "source": [
    "outer = [\"Li\", \"Na\", \"K\"]\n",
    "inner = [\"F\", \"Cl\", \"Br\"]\n",
    "for metal in outer:\n",
    "    for halogen in inner:\n",
    "        print(metal + halogen)"
   ]
  },
  {
   "cell_type": "code",
   "execution_count": 25,
   "metadata": {},
   "outputs": [
    {
     "name": "stdout",
     "output_type": "stream",
     "text": [
      "      *\n",
      "     ***\n",
      "    *****\n",
      "   *******\n",
      "  *********\n",
      " ***********\n",
      "*************\n"
     ]
    }
   ],
   "source": [
    "height = 7 # height of the pyramid\n",
    "for row in range(1, height + 1):\n",
    "    for space in range(height - row):\n",
    "        print(\" \", end='')\n",
    "        \n",
    "    for symbol in range(2 * row - 1):\n",
    "        print(\"*\", end='')\n",
    "        \n",
    "    print()"
   ]
  },
  {
   "cell_type": "markdown",
   "metadata": {},
   "source": [
    "## Controlling Loops"
   ]
  },
  {
   "cell_type": "markdown",
   "metadata": {},
   "source": [
    "### Else\n",
    "Else part is executed if control exits the loop without a break statement being encountered.\n"
   ]
  },
  {
   "cell_type": "code",
   "execution_count": 33,
   "metadata": {},
   "outputs": [
    {
     "name": "stdout",
     "output_type": "stream",
     "text": [
      "Found the pig: 🐷\n",
      "No pigs found\n"
     ]
    }
   ],
   "source": [
    "birds = ['🐦', '🦃', '🐷', '🦅', '🕊️']\n",
    "for bird in birds:\n",
    "    if bird == '🐷':\n",
    "        print(f\"Found the pig: {bird}\")\n",
    "else:\n",
    "    print(\"No pigs found\")"
   ]
  },
  {
   "cell_type": "code",
   "execution_count": 28,
   "metadata": {},
   "outputs": [
    {
     "name": "stdout",
     "output_type": "stream",
     "text": [
      "5\n",
      "4\n",
      "3\n",
      "2\n",
      "1\n",
      "Countdown complete! Blast off!\n"
     ]
    }
   ],
   "source": [
    "countdown = 5\n",
    "while countdown > 0:\n",
    "    print(countdown)\n",
    "    countdown -= 1\n",
    "else:\n",
    "    print(\"Countdown complete! Blast off!\")"
   ]
  },
  {
   "cell_type": "code",
   "execution_count": 32,
   "metadata": {},
   "outputs": [
    {
     "name": "stdout",
     "output_type": "stream",
     "text": [
      "Lorem ipsum dolor sit amet, consectetur adipiscing elit, sed do eiusmod tempor incididunt ut labore et dolore magna aliqua.\n",
      "Iaculis nunc sed augue lacus viverra vitae congue eu consequat.\n",
      "Nisi quis eleifend quam adipiscing vitae proin sagittis nisl.\n",
      "Venenatis lectus magna fringilla urna porttitor.\n",
      "Sagittis nisl rhoncus mattis rhoncus urna neque viverra justo nec.\n"
     ]
    }
   ],
   "source": [
    "file = open(\"extras/sample.txt\", \"r\")\n",
    "while True:\n",
    "    line = file.readline()\n",
    "    if not line:\n",
    "        break\n",
    "    print(line.strip())\n",
    "else:\n",
    "    file.close()\n",
    "    \n",
    "# Safe way to open a file\n",
    "# with open(\"extras/sample.txt\", \"r\") as file:\n",
    "#     while True:\n",
    "#         line = file.readline()\n",
    "#         if not line:\n",
    "#             break\n",
    "#         print(line.strip())"
   ]
  },
  {
   "cell_type": "markdown",
   "metadata": {},
   "source": [
    "### Break\n",
    "\n",
    "The break statement is used to stop the loop, which in turn also stops the else condition. Without the break the loop will continue even after the if condition is satisfied.\n",
    "\n",
    "It is like a loop test that can happen anywhere in the body of the loop.\n"
   ]
  },
  {
   "cell_type": "code",
   "execution_count": 34,
   "metadata": {},
   "outputs": [
    {
     "name": "stdout",
     "output_type": "stream",
     "text": [
      "Found the pig: 🐷\n"
     ]
    }
   ],
   "source": [
    "birds = ['🐦', '🦃', '🐷', '🦅', '🕊️']\n",
    "for bird in birds:\n",
    "    if bird == '🐷':\n",
    "        print(f\"Found the pig: {bird}\")\n",
    "        break\n",
    "else:\n",
    "    print(\"No pigs found\")"
   ]
  },
  {
   "cell_type": "code",
   "execution_count": 35,
   "metadata": {},
   "outputs": [
    {
     "name": "stdout",
     "output_type": "stream",
     "text": [
      "Yes, we have grape\n",
      "Yes, we have apple\n",
      "Sorry, we don't have kiwi\n",
      "Goodbye!\n",
      "Thanks for shopping!\n"
     ]
    }
   ],
   "source": [
    "fruits_in_stock = [\"apple\", \"orange\", \"banana\", \"pear\", \"grape\", \"pineapple\"]\n",
    "user_choice = ''\n",
    "\n",
    "while user_choice != 'q':\n",
    "    user_choice = input(\"Please enter a fruit (or q to quit): \")\n",
    "    if user_choice == 'q':\n",
    "        print(\"Goodbye!\")\n",
    "        break\n",
    "    elif user_choice in fruits_in_stock:\n",
    "        print(\"Yes, we have\", user_choice)\n",
    "    else:\n",
    "        print(\"Sorry, we don't have\", user_choice)\n",
    "print(\"Thanks for shopping!\")\n",
    "        "
   ]
  },
  {
   "cell_type": "markdown",
   "metadata": {},
   "source": [
    "### Continue\n",
    "The continue statement ends the current iteration and jumps to the top of the loop and starts the next iteration."
   ]
  },
  {
   "cell_type": "code",
   "execution_count": 36,
   "metadata": {},
   "outputs": [
    {
     "name": "stdout",
     "output_type": "stream",
     "text": [
      "Look, a 🐦!\n",
      "Look, a 🦃!\n",
      "Look, a 🦅!\n",
      "Look, a 🕊️!\n"
     ]
    }
   ],
   "source": [
    "birds = ['🐦', '🦃', '🐷', '🦅', '🕊️']\n",
    "for bird in birds:\n",
    "    if bird == '🐷':\n",
    "        continue\n",
    "    print(f\"Look, a {bird}!\")"
   ]
  },
  {
   "cell_type": "code",
   "execution_count": 37,
   "metadata": {},
   "outputs": [
    {
     "name": "stdout",
     "output_type": "stream",
     "text": [
      "Yes, we have grape\n",
      "Yes, we have orange\n",
      "Yes, we have orange\n",
      "Sorry, we don't have kiwi\n",
      "Goodbye!\n",
      "Thanks for shopping!\n"
     ]
    }
   ],
   "source": [
    "fruits_in_stock = [\"apple\", \"orange\", \"banana\", \"pear\", \"grape\", \"pineapple\"]\n",
    "user_choice = ''\n",
    "\n",
    "while user_choice != 'q':\n",
    "    user_choice = input(\"Please enter a fruit (or q to quit): \")\n",
    "    if user_choice == 'q':\n",
    "        print(\"Goodbye!\")\n",
    "        break\n",
    "    elif user_choice not in fruits_in_stock:\n",
    "        print(\"Sorry, we don't have\", user_choice)\n",
    "        continue # go back to the start of the loop\n",
    "    print(\"Yes, we have\", user_choice)\n",
    "print(\"Thanks for shopping!\")"
   ]
  },
  {
   "cell_type": "markdown",
   "metadata": {},
   "source": [
    "### Pass\n",
    "- Python pass is a null statement. When the Python interpreter comes across the across pass statement, it does nothing and is ignored.\n",
    "- pass statement is used as a placeholder inside loops, functions, class, if-statement that is usually meant to be implemented later.\n"
   ]
  },
  {
   "cell_type": "code",
   "execution_count": 38,
   "metadata": {},
   "outputs": [
    {
     "name": "stdout",
     "output_type": "stream",
     "text": [
      "Look, a 🐦!\n",
      "Look, a 🦃!\n",
      "Look, a 🦅!\n",
      "Look, a 🕊️!\n"
     ]
    }
   ],
   "source": [
    "birds = ['🐦', '🦃', '🐷', '🦅', '🕊️']\n",
    "for bird in birds:\n",
    "    if bird == '🐷':\n",
    "        pass # implement for pig later\n",
    "    else:\n",
    "        print(f\"Look, a {bird}!\")"
   ]
  },
  {
   "cell_type": "code",
   "execution_count": 40,
   "metadata": {},
   "outputs": [
    {
     "name": "stdout",
     "output_type": "stream",
     "text": [
      "Access denied!\n",
      "Access granted!\n",
      "Welcome, admin!\n"
     ]
    }
   ],
   "source": [
    "valid_username = \"admin\"\n",
    "valid_password = \"admin123\"\n",
    "\n",
    "while True:\n",
    "    username = input(\"Enter your username: \")\n",
    "    password = input(\"Enter your password: \")\n",
    "    \n",
    "    if username == valid_username and password == valid_password:\n",
    "        print(\"Access granted!\")\n",
    "        break\n",
    "    else:\n",
    "        print(\"Access denied!\")\n",
    "        pass # Placeholder for later (e.g. send email to admin)\n",
    "print(\"Welcome, admin!\")"
   ]
  },
  {
   "cell_type": "markdown",
   "metadata": {},
   "source": [
    "## Tips\n",
    "- Choose the Right Loop Type:\n",
    "    - For loops for iterating over sequences, e.g., lists, tuples, and strings.\n",
    "    - While loops for conditional iteration based on a certain condition.\n",
    "- Iterate over elements directly instead of iterating over indices.\n"
   ]
  },
  {
   "cell_type": "code",
   "execution_count": 41,
   "metadata": {},
   "outputs": [
    {
     "name": "stdout",
     "output_type": "stream",
     "text": [
      "Hansen\n",
      "Agus\n",
      "Hermawan\n",
      "Ferdi\n",
      "Hansen\n",
      "Agus\n",
      "Hermawan\n",
      "Ferdi\n"
     ]
    }
   ],
   "source": [
    "names = [\"Hansen\", \"Agus\", \"Hermawan\", \"Ferdi\"]\n",
    "# GOOD: iterate over elements directly\n",
    "for name in names:\n",
    "    print(name)\n",
    "    \n",
    "# BAD: iterate over indices\n",
    "for i in range(len(names)):\n",
    "    print(names[i])"
   ]
  },
  {
   "cell_type": "markdown",
   "metadata": {},
   "source": [
    "Use 'Continue' correctly (it can be shorter and readable without it).\n"
   ]
  },
  {
   "cell_type": "code",
   "execution_count": 42,
   "metadata": {},
   "outputs": [
    {
     "name": "stdout",
     "output_type": "stream",
     "text": [
      "Using continue sparingly:\n",
      "1\n",
      "3\n",
      "5\n",
      "7\n",
      "9\n",
      "\n",
      "Equivalent code without continue:\n",
      "1\n",
      "3\n",
      "5\n",
      "7\n",
      "9\n"
     ]
    }
   ],
   "source": [
    "# Sample list of numbers\n",
    "numbers = [1, 2, 3, 4, 5, 6, 7, 8, 9, 10]\n",
    "\n",
    "# BAD: Use continue sparingly to skip even numbers\n",
    "print(\"Using continue sparingly:\")\n",
    "for num in numbers:\n",
    "    if num % 2 == 0:\n",
    "        continue  # Skip even numbers\n",
    "    print(num)\n",
    "\n",
    "# GOOD: Equivalent code without continue\n",
    "print(\"\\nEquivalent code without continue:\")\n",
    "for num in numbers:\n",
    "    if num % 2 != 0:\n",
    "        print(num)\n"
   ]
  },
  {
   "cell_type": "markdown",
   "metadata": {},
   "source": [
    "- Try to avoid loops and use built-in methods instead.\n",
    "- Use enumerate() for Index and Element\n"
   ]
  },
  {
   "cell_type": "code",
   "execution_count": 43,
   "metadata": {},
   "outputs": [
    {
     "name": "stdout",
     "output_type": "stream",
     "text": [
      "0 a\n",
      "1 b\n",
      "2 c\n",
      "0 a\n",
      "1 b\n",
      "2 c\n"
     ]
    }
   ],
   "source": [
    "data = [\"a\", \"b\", \"c\"]\n",
    "\n",
    "# BAD:\n",
    "for i in range(len(data)):\n",
    "    print(i, data[i])\n",
    "\n",
    "# GOOD: use enumerate\n",
    "for idx, val in enumerate(data):\n",
    "    print(idx, val)\n"
   ]
  },
  {
   "cell_type": "code",
   "execution_count": 44,
   "metadata": {},
   "outputs": [
    {
     "name": "stdout",
     "output_type": "stream",
     "text": [
      "111\n",
      "111\n"
     ]
    }
   ],
   "source": [
    "numbers = [7, 20, 33, 51]\n",
    "result = 0\n",
    "\n",
    "# BAD:\n",
    "for num in numbers:\n",
    "    result += num\n",
    "print(result) \n",
    "\n",
    "# GOOD: avoid loop\n",
    "result = sum(numbers)\n",
    "print(result)\n"
   ]
  },
  {
   "cell_type": "markdown",
   "metadata": {},
   "source": [
    "Use zip() for iterating over multiple sequences in parallel.\n"
   ]
  },
  {
   "cell_type": "code",
   "execution_count": 45,
   "metadata": {},
   "outputs": [
    {
     "name": "stdout",
     "output_type": "stream",
     "text": [
      "Bob scored 92\n",
      "Bob scored 92\n"
     ]
    }
   ],
   "source": [
    "students = [\"Alice\", \"Bob\", \"Charlie\", \"David\"]\n",
    "scores = [85, 92, 78, 88]\n",
    "threshold = 90\n",
    "\n",
    "# BAD: Find who scored above threshold\n",
    "for i in range(len(students)):\n",
    "    if scores[i] > threshold:\n",
    "        print(f\"{students[i]} scored {scores[i]}\")\n",
    "\n",
    "# GOOD: Find who scored above threshold using zip()\n",
    "for student, score in zip(students, scores):\n",
    "    if score > threshold:\n",
    "        print(f\"{student} scored {score}\")\n"
   ]
  },
  {
   "cell_type": "markdown",
   "metadata": {},
   "source": [
    "Avoid redundant computation\n"
   ]
  },
  {
   "cell_type": "code",
   "execution_count": 46,
   "metadata": {},
   "outputs": [
    {
     "name": "stdout",
     "output_type": "stream",
     "text": [
      "Distance between points 0 and 1: 2.83\n",
      "Distance between points 0 and 2: 5.66\n",
      "Distance between points 0 and 3: 8.49\n",
      "Distance between points 1 and 2: 2.83\n",
      "Distance between points 1 and 3: 5.66\n",
      "Distance between points 2 and 3: 2.83\n"
     ]
    }
   ],
   "source": [
    "import math\n",
    "\n",
    "# Sample list of points as (x, y) coordinates\n",
    "points = [(1, 2), (3, 4), (5, 6), (7, 8)]\n",
    "\n",
    "# Calculate distances between each pair of points\n",
    "distances = {}\n",
    "\n",
    "for i, point1 in enumerate(points):\n",
    "    for j, point2 in enumerate(points):\n",
    "        if i < j:  # Avoid redundancy (i.e., distance point1 and point2 = point2 and point1)\n",
    "            x1, y1 = point1\n",
    "            x2, y2 = point2\n",
    "            distance = math.sqrt((x2 - x1) ** 2 + (y2 - y1) ** 2)\n",
    "            distances[(i, j)] = distance\n",
    "\n",
    "# Print the distances\n",
    "for (i, j), distance in distances.items():\n",
    "    print(f\"Distance between points {i} and {j}: {distance:.2f}\")\n"
   ]
  }
 ],
 "metadata": {
  "kernelspec": {
   "display_name": "base",
   "language": "python",
   "name": "python3"
  },
  "language_info": {
   "codemirror_mode": {
    "name": "ipython",
    "version": 3
   },
   "file_extension": ".py",
   "mimetype": "text/x-python",
   "name": "python",
   "nbconvert_exporter": "python",
   "pygments_lexer": "ipython3",
   "version": "3.11.4"
  }
 },
 "nbformat": 4,
 "nbformat_minor": 2
}
