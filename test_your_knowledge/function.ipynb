{
 "cells": [
  {
   "cell_type": "markdown",
   "metadata": {},
   "source": [
    "Hermawan Sentyaki Sarjito<br>\n",
    "J0403231111<br>\n",
    "senthermawan@apps.ipb.ac.id\n",
    "<br>\n",
    "https://github.com/dark-hermes\n",
    "\n",
    "Tribute to [Danan Purwantoro, S.T., M.Kom.](https://github.com/pakdanan \"https://github.com/pakdanan\") as a practitioner lecturer at IPB University."
   ]
  },
  {
   "cell_type": "markdown",
   "metadata": {},
   "source": [
    "Write a Python function to convert temperature with parameters temperature and \n",
    "scale, that converts a temperature value from one scale ('C' for Celsius, 'F' for \n",
    "Fahrenheit) to the other scale and returns the converted temperature. include \n",
    "proper naming, docstrings, error handlings, and some samples of how to use it."
   ]
  },
  {
   "cell_type": "code",
   "execution_count": 1,
   "metadata": {},
   "outputs": [
    {
     "name": "stdout",
     "output_type": "stream",
     "text": [
      "212.0\n",
      "100.0\n",
      "Invalid scale: only accepts 'C' or 'F'.\n",
      "None\n"
     ]
    }
   ],
   "source": [
    "def convert_temperature(temperature, scale):\n",
    "    \"\"\"This function converts a temperature value from one scale ('C' for Celsius, \n",
    "    'F' for Fahrenheit) to the other scale and returns the converted temperature.\n",
    "    \n",
    "    Args:\n",
    "        temperature (int or float): The temperature value\n",
    "        scale (str): The scale of the temperature value ('C' for Celsius, 'F' for \n",
    "        Fahrenheit)\n",
    "        \n",
    "    Returns:\n",
    "        float: The converted temperature value\n",
    "    \n",
    "    Example:\n",
    "        >>> convert_temperature(100, 'C')\n",
    "        212.0\n",
    "        >>> convert_temperature(212, 'F')\n",
    "        100.0\n",
    "    \"\"\"\n",
    "    try:\n",
    "        if scale == 'C':\n",
    "            return temperature * 9 / 5 + 32\n",
    "        elif scale == 'F':\n",
    "            return (temperature - 32) * 5 / 9\n",
    "        else:\n",
    "            raise ValueError(\"Unknown scale, use 'C' or 'F'.\")\n",
    "    except ValueError as e:\n",
    "        print(\"Invalid scale: only accepts 'C' or 'F'.\")\n",
    "        return None\n",
    "    except Exception as e:\n",
    "        print(f\"Error: {e}\")\n",
    "        return None\n",
    "        \n",
    "\n",
    "print(convert_temperature(100, 'C')) # Output: 212.0\n",
    "print(convert_temperature(212, 'F')) # Output: 100.0\n",
    "print(convert_temperature(100, 'K')) # Output: Invalid scale: only accepts 'C' or 'F'."
   ]
  },
  {
   "cell_type": "markdown",
   "metadata": {},
   "source": [
    "Create a calculator-like function that accepts a variable number of arguments and \n",
    "an operator parameter to perform arithmetic operations on those arguments. \n",
    "Include proper naming, docstrings, error handlings, and some samples of how to \n",
    "use it"
   ]
  },
  {
   "cell_type": "code",
   "execution_count": 2,
   "metadata": {},
   "outputs": [
    {
     "name": "stdout",
     "output_type": "stream",
     "text": [
      "10\n",
      "-8\n",
      "24\n",
      "100\n",
      "Invalid operator: M\n",
      "None\n"
     ]
    }
   ],
   "source": [
    "def calculator(*numbers, operator):\n",
    "    \"\"\"This function performs arithmetic operations on the given numbers.\n",
    "    \n",
    "    Args:\n",
    "        numbers (int or float): The numbers to perform arithmetic operations on\n",
    "        operator (str): The operator of the arithmetic operations\n",
    "        \n",
    "    Returns:\n",
    "        int or float: The result of the arithmetic operations\n",
    "    \n",
    "    Example:\n",
    "        >>> calculator(1, 2, 3, 4, operator='+')\n",
    "        10\n",
    "        >>> calculator(1, 2, 3, 4, operator='-')\n",
    "        -8\n",
    "    \"\"\"\n",
    "    try:\n",
    "        result = numbers[0]\n",
    "        for i in range(1, len(numbers)):\n",
    "            result = eval(f\"{result} {operator} {numbers[i]}\") \n",
    "        return result\n",
    "    except SyntaxError:\n",
    "        print(\"Invalid operator:\", operator)\n",
    "    except Exception as e:\n",
    "        print(f\"Error: {e}\")\n",
    "\n",
    "print(calculator(1, 2, 3, 4, operator='+')) # Output: 10\n",
    "print(calculator(1, 2, 3, 4, operator='-')) # Output: -8\n",
    "print(calculator(1, 2, 3, 4, operator='*')) # Output: 24\n",
    "# print(calculator(1, 2, 3, 4, operator='/'))\n",
    "# print(calculator(1, 2, 3, 4, operator='**'))\n",
    "# print(calculator(1, 2, 3, 4, operator='//'))\n",
    "# print(calculator(1, 2, 3, 4, operator='%'))\n",
    "# print(calculator(1, 2, 3, 4, operator='&'))\n",
    "# print(calculator(1, 2, 3, 4, operator='>>'))\n",
    "# print(calculator(1, 2, 3, 4, operator='<<'))\n",
    "# print(calculator(1, 2, 3, 4, operator='^'))\n",
    "\n",
    "sum_of_numbers = calculator(1, 2, 3, 4, operator='+')\n",
    "square_of_summed = calculator(sum_of_numbers, sum_of_numbers, operator='*')\n",
    "print(square_of_summed) # Output: 100\n",
    "\n",
    "print(calculator(1, 2, 3, 4, operator='M')) # Output: Invalid operator: M\n"
   ]
  }
 ],
 "metadata": {
  "kernelspec": {
   "display_name": "base",
   "language": "python",
   "name": "python3"
  },
  "language_info": {
   "codemirror_mode": {
    "name": "ipython",
    "version": 3
   },
   "file_extension": ".py",
   "mimetype": "text/x-python",
   "name": "python",
   "nbconvert_exporter": "python",
   "pygments_lexer": "ipython3",
   "version": "3.11.4"
  }
 },
 "nbformat": 4,
 "nbformat_minor": 2
}
