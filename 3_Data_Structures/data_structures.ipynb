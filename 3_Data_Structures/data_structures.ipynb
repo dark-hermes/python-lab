{
 "cells": [
  {
   "cell_type": "markdown",
   "metadata": {},
   "source": [
    "Hermawan Sentyaki Sarjito<br>\n",
    "J0403231111<br>\n",
    "senthermawan@apps.ipb.ac.id\n",
    "<br>\n",
    "https://github.com/dark-hermes\n",
    "\n",
    "Tribute to [Danan Purwantoro, S.T., M.Kom.](https://github.com/pakdanan \"https://github.com/pakdanan\") as a practitioner lecturer at IPB University."
   ]
  },
  {
   "cell_type": "markdown",
   "metadata": {},
   "source": [
    "# Data Structures"
   ]
  },
  {
   "cell_type": "markdown",
   "metadata": {},
   "source": [
    "## What is Data Structures\n",
    "- Containers used to organize and manage data efficiently in memory.\n",
    "- Used for more complex information, such as a collection of data like a list of people.\n",
    "- Each data structure designed to solve a particular problem.\n",
    "- Built-in data structures, i.e., List, dictionary, tuple and set are non-primitive (classed as objects).\n",
    "- Data Structures can be mutable or immutable. Mutability refers to data inside the data structure that can be modified (change, update, or delete).\n",
    "  - built-in mutable data structures: lists, dictionaries, and sets.\n",
    "  - built-in immutable data structure: tuple\n"
   ]
  },
  {
   "cell_type": "markdown",
   "metadata": {},
   "source": [
    "## Lists"
   ]
  },
  {
   "cell_type": "markdown",
   "metadata": {},
   "source": [
    "### Characteristics of Lists\n",
    "- Ordered: Lists maintain the order of elements.\n",
    "- Mutable: You can change, add, or remove elements in a list.\n",
    "- Heterogeneous: Lists can contain elements of different data types.\n",
    "- Dynamic Sizing: Lists can grow or shrink as needed.\n",
    "- Iterable: You can loop through the elements in a list.\n",
    "- Nesting: Lists can be nested within other lists.\n",
    "- Common Operations: Lists support various operations like append, insert, remove, and more.\n",
    "- Duplicated Elements: Lists can contain duplicate elements.\n",
    "- Brackets Syntax: Lists are created using square brackets ‘[ ]’.\n",
    "- Length: You can find the number of elements in a list using len().\n"
   ]
  },
  {
   "cell_type": "markdown",
   "metadata": {},
   "source": [
    "### Basic List Operations\n",
    "|Python Expression|Results|Description|\n",
    "|-----------------|-------|-----------|\n",
    "|```len([1,2,3])```|3     |Length     |\n",
    "|```[1,2,3] + [4,5,6]```|[1,2,3,4,5,6]|Concatenation|\n",
    "|```['Hi'] * 4```| ['Hi', 'Hi', 'Hi', 'Hi']| Repetition|\n",
    "|```3 in [1,2,3]```|True|Membership|\n",
    "|```for x in [1,2,3]: print(x,end=' ')```|1 2 3|Iteration|"
   ]
  },
  {
   "cell_type": "markdown",
   "metadata": {},
   "source": [
    "### Built-in Methods of Lists\n",
    "- append(x)\t: Adds an element x to the end of the list.\n",
    "- insert(i, x)\t: Inserts an element x at a specified index i.\n",
    "- remove(x)\t: Removes the first occurrence of element x from the list.\n",
    "- clear()\t\t: Removes all elements from the list, making it empty.\n",
    "- count(x)\t\t: Returns the number of times element x appears in the list.\n",
    "- reverse()\t\t: Reverses the order of elements in the list.\n",
    "- copy()\t\t: Creates a shallow copy of the list.\n",
    "- len(list)\t\t: Returns the number of elements in the list.\n",
    "- pop([i])\t\t: Removes and returns the element at the specified index i. If i is not provided, it removes and returns the last element.\n",
    "- index(x[, start[, end]]) :<br>\n",
    "Returns the index of the first occurrence of element x. You can provide optional start and end arguments to search within a specific slice of the list.\n",
    "- sort(key=None, reverse=False) :<br>\n",
    "Sorts the list in ascending order by default. You can use the key parameter to specify a custom sorting key function, and the reverse parameter to sort in descending order.\n",
    "\n"
   ]
  },
  {
   "cell_type": "code",
   "execution_count": 2,
   "metadata": {},
   "outputs": [
    {
     "name": "stdout",
     "output_type": "stream",
     "text": [
      "Initial list\n",
      "[1, 2, 3, 4, 5]\n",
      "\n",
      "Append\n",
      "[1, 2, 3, 4, 5, 6]\n",
      "\n",
      "Extend\n",
      "[1, 2, 3, 4, 5, 6, 7, 8, 9]\n",
      "\n",
      "Insert\n",
      "[1, 2, 10, 3, 4, 5, 6, 7, 8, 9]\n",
      "\n",
      "Remove\n",
      "[1, 2, 10, 3, 4, 6, 7, 8, 9]\n",
      "\n",
      "Popped element: 3\n",
      "Pop\n",
      "[1, 2, 10, 4, 6, 7, 8, 9]\n",
      "\n",
      "Clear\n",
      "[]\n",
      "\n",
      "Initial list\n",
      "[1, 2, 3, 4, 5]\n",
      "\n",
      "Index of 3: 2\n",
      "\n",
      "Count\n",
      "[1, 2, 3, 4, 5, 1, 1, 1, 1, 1]\n",
      "\n",
      "Count of 1: 6\n",
      "\n",
      "Sort\n",
      "[1, 1, 1, 1, 1, 1, 2, 3, 4, 5]\n",
      "\n",
      "Reverse\n",
      "[5, 4, 3, 2, 1, 1, 1, 1, 1, 1]\n",
      "\n",
      "Copy\n",
      "[5, 4, 3, 2, 1, 1, 1, 1, 1, 1]\n",
      "\n",
      "Length of list: 10\n",
      "\n"
     ]
    }
   ],
   "source": [
    "# Initialize a sample list\n",
    "my_list = list(range(1,6))\n",
    "print(f\"Initial list\\n{my_list}\\n\")\n",
    "\n",
    "# append(x) - adds x to the end of the list\n",
    "my_list.append(6)\n",
    "print(f\"Append\\n{my_list}\\n\")\n",
    "\n",
    "# extend(x) - adds all elements of x to the end of the list\n",
    "my_list.extend([7,8,9])\n",
    "print(f\"Extend\\n{my_list}\\n\")\n",
    "\n",
    "# insert(i,x) - inserts x at index i\n",
    "my_list.insert(2, 10)\n",
    "print(f\"Insert\\n{my_list}\\n\")\n",
    "\n",
    "# remove(x) - removes the first instance of x from the list\n",
    "my_list.remove(5)\n",
    "print(f\"Remove\\n{my_list}\\n\")\n",
    "\n",
    "# pop(i) - removes the element at index i and returns it\n",
    "popped_element = my_list.pop(3)\n",
    "print(f\"Popped element: {popped_element}\")\n",
    "print(f\"Pop\\n{my_list}\\n\")\n",
    "\n",
    "# clear() - removes all elements from the list\n",
    "my_list.clear()\n",
    "print(f\"Clear\\n{my_list}\\n\")\n",
    "\n",
    "# index(x) - returns the index of the first instance of x\n",
    "my_list = list(range(1,6))\n",
    "print(f\"Initial list\\n{my_list}\\n\")\n",
    "print(f\"Index of 3: {my_list.index(3)}\\n\")\n",
    "\n",
    "# count(x) - returns the number of times x appears in the list\n",
    "my_list.extend([1,1,1,1,1])\n",
    "count = my_list.count(1)\n",
    "print(f\"Count\\n{my_list}\\n\")\n",
    "print(f\"Count of 1: {count}\\n\")\n",
    "\n",
    "# sort(key=None, reverse=False) - sorts the list in ascending order\n",
    "my_list.sort()\n",
    "print(f\"Sort\\n{my_list}\\n\")\n",
    "\n",
    "# reverse() - reverses the list\n",
    "my_list.reverse()\n",
    "print(f\"Reverse\\n{my_list}\\n\")\n",
    "\n",
    "# copy() - returns a copy of the list\n",
    "copy_of_list = my_list.copy()\n",
    "print(f\"Copy\\n{copy_of_list}\\n\")\n",
    "\n",
    "# len(x) - returns the length of the list\n",
    "print(f\"Length of list: {len(my_list)}\\n\")\n"
   ]
  },
  {
   "cell_type": "markdown",
   "metadata": {},
   "source": [
    "### Creating Python Lists\n",
    "Elements in a list are enclosed with square brackets (‘[ ]’) with each separated by comma. It can contain any type of value including lists. An example of creating a list is shown below"
   ]
  },
  {
   "cell_type": "code",
   "execution_count": 4,
   "metadata": {},
   "outputs": [
    {
     "name": "stdout",
     "output_type": "stream",
     "text": [
      "The type of [] is <class 'list'>\n",
      "The type of [1, 'two', 3.0, True, None, [1, 2, 3], (4, 5, 6)] is <class 'list'>\n"
     ]
    }
   ],
   "source": [
    "empty_list = []\n",
    "heterogeneous_list = [1, \"two\", 3.0, True, None, [1,2,3], (4,5,6)]\n",
    "print(f\"The type of {empty_list} is {type(empty_list)}\")\n",
    "print(f\"The type of {heterogeneous_list} is {type(heterogeneous_list)}\")"
   ]
  },
  {
   "cell_type": "markdown",
   "metadata": {},
   "source": [
    "### Accessing an element from the Python list\n",
    "We can access the elements of the list using indexing. In Python, the indexing of lists starts from 0. So, to access the first element you have to specify the index as ‘0’. We can also access using negative indexes, where the right most value is of index ‘-1’ and it keeps reducing on moving to the left.\n"
   ]
  },
  {
   "cell_type": "code",
   "execution_count": 5,
   "metadata": {},
   "outputs": [
    {
     "name": "stdout",
     "output_type": "stream",
     "text": [
      "4th element of [1, 'two', 3.0, True, None, [1, 2, 3], (4, 5, 6)] is True\n",
      "The whole list is [1, 'two', 3.0, True, None, [1, 2, 3], (4, 5, 6)]\n",
      "Last 2nd element of [1, 'two', 3.0, True, None, [1, 2, 3], (4, 5, 6)] is [1, 2, 3]\n"
     ]
    }
   ],
   "source": [
    "heterogeneous_list = [1, \"two\", 3.0, True, None, [1,2,3], (4,5,6)]\n",
    "print(f\"4th element of {heterogeneous_list} is {heterogeneous_list[3]}\")\n",
    "print(f\"The whole list is {heterogeneous_list}\")\n",
    "print(f\"Last 2nd element of {heterogeneous_list} is {heterogeneous_list[-2]}\")"
   ]
  },
  {
   "cell_type": "markdown",
   "metadata": {},
   "source": [
    "### Slicing the list in Python\n",
    "We can get more than one element from a list by slicing. We use the indexing of ‘i:j’ to get the elements from ith index to jth index (jth exclusive). Also, We can give negative indexing. For example,\n"
   ]
  },
  {
   "cell_type": "code",
   "execution_count": 8,
   "metadata": {},
   "outputs": [
    {
     "name": "stdout",
     "output_type": "stream",
     "text": [
      "list_1[2:5] = [5.6, 'a', 'Hermawan']\n",
      "list_1[:] = [1, 3, 5.6, 'a', 'Hermawan', 0.4]\n",
      "list_1[-5:-2] = [3, 5.6, 'a']\n",
      "list_1[3:] = ['a', 'Hermawan', 0.4]\n",
      "list_1[-3:] = ['a', 'Hermawan', 0.4]\n",
      "list_1[:2] = [1, 3]\n",
      "list_1[:-2] = [1, 3, 5.6, 'a']\n"
     ]
    }
   ],
   "source": [
    "list_1=[1, 3, 5.6, 'a', \"Hermawan\", 0.4]\n",
    "print(\"list_1[2:5] =\", list_1[2:5]) # slicing 3rd to 5th element\n",
    "print(\"list_1[:] =\", list_1[:]) # getting entire list\n",
    "print(\"list_1[-5:-2] =\", list_1[-5:-2]) # slicing last 5th to 3rd element\n",
    "print(\"list_1[3:] =\", list_1[3:]) # slicing all elements after 3rd one\n",
    "print(\"list_1[-3:] =\", list_1[-3:]) # slicing all elements after last 3rd one\n",
    "print(\"list_1[:2] =\", list_1[:2]) # slicing all elements till 2nd one\n",
    "print(\"list_1[:-2] =\", list_1[:-2]) # slicing all elements till last 2nd one"
   ]
  },
  {
   "cell_type": "markdown",
   "metadata": {},
   "source": [
    "### Modifying and deleting from Python List"
   ]
  },
  {
   "cell_type": "code",
   "execution_count": 9,
   "metadata": {},
   "outputs": [
    {
     "name": "stdout",
     "output_type": "stream",
     "text": [
      "After modifying using indexing: [1, 2, 10, 4, 5]\n",
      "After modifying using slicing: [1, 20, 30, 40, 5]\n",
      "After deleting using indexing: [1, 20, 40, 5]\n",
      "After deleting using slicing: [1]\n"
     ]
    }
   ],
   "source": [
    "# Create a list\n",
    "my_list = [1, 2, 3, 4, 5]\n",
    "\n",
    "# Modify an element using indexing\n",
    "my_list[2] = 10\n",
    "print(\"After modifying using indexing:\", my_list)  # Output: [1, 2, 10, 4, 5]\n",
    "\n",
    "# Modify a range of elements using slicing\n",
    "my_list[1:4] = [20, 30, 40]\n",
    "print(\"After modifying using slicing:\", my_list)  # Output: [1, 20, 30, 40, 5]\n",
    "\n",
    "# Delete an element using indexing\n",
    "del my_list[2]\n",
    "print(\"After deleting using indexing:\", my_list)  # Output: [1, 20, 40, 5]\n",
    "\n",
    "# Delete a range of elements using slicing\n",
    "my_list[1:4] = []\n",
    "print(\"After deleting using slicing:\", my_list)  # Output: [1, 5]\n",
    "\n",
    "# Delete the entire list\n",
    "del my_list\n",
    "# Now, my_list is no longer defined\n"
   ]
  },
  {
   "cell_type": "markdown",
   "metadata": {},
   "source": [
    "### Common Ways to Loop Through a List"
   ]
  },
  {
   "cell_type": "code",
   "execution_count": 10,
   "metadata": {},
   "outputs": [
    {
     "name": "stdout",
     "output_type": "stream",
     "text": [
      "1\n",
      "2\n",
      "3\n",
      "4\n",
      "5\n",
      "Index 0: 1\n",
      "Index 1: 2\n",
      "Index 2: 3\n",
      "Index 3: 4\n",
      "Index 4: 5\n",
      "5\n",
      "4\n",
      "3\n",
      "2\n",
      "1\n"
     ]
    }
   ],
   "source": [
    "# Create a sample list\n",
    "my_list = [1, 2, 3, 4, 5]\n",
    "\n",
    "# Method 1: Loop through the list and print each element\n",
    "for item in my_list:\n",
    "    print(item)\n",
    "\n",
    "# Method 2: Loop through the list with index using enumerate()\n",
    "for index, item in enumerate(my_list):\n",
    "    print(f\"Index {index}: {item}\")\n",
    "\n",
    "# Method 3: Loop through the list in reverse order\n",
    "for item in reversed(my_list):\n",
    "    print(item)\n",
    "\n"
   ]
  },
  {
   "cell_type": "markdown",
   "metadata": {},
   "source": [
    "### List Comprehension in Python\n",
    "List comprehension is a way to create a list in a simple, and efficient way. The syntax of list comprehension is:\n",
    "```python\n",
    "[expression(x) for x in list]\n",
    "```"
   ]
  },
  {
   "cell_type": "code",
   "execution_count": 11,
   "metadata": {},
   "outputs": [
    {
     "name": "stdout",
     "output_type": "stream",
     "text": [
      "[1, 4, 9, 16, 25]\n",
      "['apple', 'orange', 'cherry', 'kiwi', 'mango']\n"
     ]
    }
   ],
   "source": [
    "# Sample 1:\n",
    "list1=[1,-2,3,-4,5]\n",
    "list2=[x**2 for x in list1]\n",
    "print(list2)\n",
    "\n",
    "# Sample 2 (with condition):\n",
    "fruits = [\"apple\", \"banana\", \"cherry\", \"kiwi\", \"mango\"]\n",
    "newlist = [x if x != \"banana\" else \"orange\" for x in fruits]\n",
    "print(newlist)\n"
   ]
  },
  {
   "cell_type": "markdown",
   "metadata": {},
   "source": [
    "### Unpacking the List\n",
    "We can unpack the values from a list into individual variables by assigning the list to multiple variables.\n"
   ]
  },
  {
   "cell_type": "code",
   "execution_count": 12,
   "metadata": {},
   "outputs": [
    {
     "name": "stdout",
     "output_type": "stream",
     "text": [
      "Python\n",
      "5\n",
      "Developer\n"
     ]
    }
   ],
   "source": [
    "emp_info=['Python',5,'Developer']\n",
    "\n",
    "#List unpacking\n",
    "skill,exp,role=emp_info\n",
    "print (skill)\t#Output:Python\n",
    "print (exp)\t#Output:5\n",
    "print (role)\t#Output:Developer\n"
   ]
  },
  {
   "cell_type": "markdown",
   "metadata": {},
   "source": [
    "### Using Lists as Stacks\n",
    "- The stack follows the LIFO (Last-In-First-Out) order, which means that the last element added to the stack will be the first element to be removed.\n",
    "- A register that points to the top of the stack is known as the stack pointer. It is used to keep track of the current position of the top of the stack.\n",
    "- A stack is also characterized by its capacity, which is the maximum number of elements it can hold at any given time. If an attempt is made to push an element onto a full stack, a stack overflow error will occur.\n"
   ]
  },
  {
   "cell_type": "code",
   "execution_count": 13,
   "metadata": {},
   "outputs": [
    {
     "name": "stdout",
     "output_type": "stream",
     "text": [
      "User clicked the back button. Navigating to: Contact Us\n",
      "User clicked the back button. Navigating to: Blog\n"
     ]
    }
   ],
   "source": [
    "# Initialize an empty stack to represent the browser history\n",
    "browser_history = []\n",
    "\n",
    "# Simulate user browsing by pushing visited pages onto the stack\n",
    "browser_history.append(\"Homepage\")\n",
    "browser_history.append(\"About Us\")\n",
    "browser_history.append(\"Products\")\n",
    "browser_history.append(\"Contact Us\")\n",
    "\n",
    "# User clicks the back button\n",
    "if len(browser_history) > 0:\n",
    "    current_page = browser_history.pop()\n",
    "    print(\"User clicked the back button. Navigating to:\", current_page)\n",
    "\n",
    "# User continues browsing and adds more pages to the history\n",
    "browser_history.append(\"FAQs\")\n",
    "browser_history.append(\"Blog\")\n",
    "\n",
    "# User clicks the back button again\n",
    "if len(browser_history) > 0:\n",
    "    current_page = browser_history.pop()\n",
    "    print(\"User clicked the back button. Navigating to:\", current_page)\n",
    "\n",
    "# At this point, the browser history would contain [\"Homepage\", \"About Us\", \"Products\", \"Contact Us\", \"FAQs\"].\n",
    "\n"
   ]
  },
  {
   "cell_type": "markdown",
   "metadata": {},
   "source": [
    "### Using Lists as Queue\n",
    "Like stack, queue is a linear data structure that stores items in First In First Out (FIFO) manner. With a queue the least recently added item is removed first. List is a Python’s built-in data structure that can be used as a queue. However, lists are quite slow for this purpose because inserting or deleting an element at the beginning requires shifting all of the other elements by one.\n"
   ]
  },
  {
   "cell_type": "code",
   "execution_count": 15,
   "metadata": {},
   "outputs": [
    {
     "name": "stdout",
     "output_type": "stream",
     "text": [
      "\n",
      "Queue before:\n",
      "['Hermawan', 'Sentyaki', 'Sarjito']\n",
      "\n",
      "Elements dequeued from queue :  Hermawan\n",
      "\n",
      "Queue after:\n",
      "['Sentyaki', 'Sarjito']\n"
     ]
    }
   ],
   "source": [
    "queue = ['Hermawan','Sentyaki'] \n",
    "\n",
    "# Adding elements to the queue \n",
    "queue.append('Sarjito') \n",
    "\n",
    "print(\"\\nQueue before:\") \n",
    "print(queue) \n",
    "\n",
    "# Removing elements from the queue \n",
    "print(\"\\nElements dequeued from queue : \", queue.pop(0)) \n",
    "\n",
    "print(\"\\nQueue after:\") \n",
    "print(queue)\n"
   ]
  },
  {
   "cell_type": "markdown",
   "metadata": {},
   "source": [
    "### Pros & Cons\n",
    "Pros :\n",
    "- The easiest way to store a collection of related objects.\n",
    "- Easy to modify by removing, adding, and changing elements.\n",
    "- Useful for creating nested data structures, such as a list of lists/dictionaries.<br>\n",
    "  \n",
    "Cons:\n",
    "- Can be slow when performing arithmetic operations on their elements. (For speed, use NumPy's arrays.)\n",
    "- Use more disk space because of their under-the-hood implementation.\n"
   ]
  },
  {
   "cell_type": "markdown",
   "metadata": {},
   "source": [
    "## Tuples"
   ]
  },
  {
   "cell_type": "markdown",
   "metadata": {},
   "source": [
    "### Characteristics of Tuples\n",
    "- Ordered: Tuples maintain the order of elements, just like lists.\n",
    "- Immutable: Tuples are immutable, meaning you cannot change their content after creation.\n",
    "- Heterogeneous: Tuples can contain elements of different data types.\n",
    "- Static Sizing: Tuples have a fixed size; you cannot add or remove elements once defined.\n",
    "- Iterable: You can iterate through tuple elements using loops or comprehensions.\n",
    "- Used for Data Integrity: Tuples are often used to represent data that should not be changed.\n",
    "- Brackets Syntax: Tuples are created using parentheses ‘( )’.\n",
    "- Hashable: Tuples are hashable, which means they can be used as keys in dictionaries, unlike lists.\n",
    "  \n",
    "So Tuples are almost identical to lists, except they are immutable.\n"
   ]
  },
  {
   "cell_type": "markdown",
   "metadata": {},
   "source": [
    "### Basic Tuples Operations\n",
    "|Python Expression|Results|Description|\n",
    "|-----------------|-------|-----------|\n",
    "|```len((1,2,3))```|3|Length|\n",
    "|```(1,2,3) + (4,5,6)```|(1,2,3,4,5,6)|Concatenation|\n",
    "|```('Hi',) * 4```|('Hi', 'Hi', 'Hi', 'Hi')|Repetition|\n",
    "|```3 in (1,2,3)```|True|Membership|\n",
    "|```for x in (1,2,3): print(x, end=' ')```|1 2 3|Iteration|\n"
   ]
  },
  {
   "cell_type": "markdown",
   "metadata": {},
   "source": [
    "### Built-in Methods of Tuples\n",
    "We can use built-in functions that are used for a list like len(), index(),etc. But we cannot use the ones that modify the list like append(), pop().\n"
   ]
  },
  {
   "cell_type": "code",
   "execution_count": 16,
   "metadata": {},
   "outputs": [
    {
     "name": "stdout",
     "output_type": "stream",
     "text": [
      "5\n",
      "2\n",
      "1\n"
     ]
    }
   ],
   "source": [
    "my_tuple = (13, 5, 'H', 'Sentaki', 20.4)\n",
    "print(len(my_tuple))\n",
    "print(my_tuple.index('H'))\n",
    "print(my_tuple.count(5))"
   ]
  },
  {
   "cell_type": "markdown",
   "metadata": {},
   "source": [
    "### Creating Tuples\n",
    "To create a tuple, we can either use round brackets (()) or the tuple() constructor. We can easily transform lists into tuples and vice versa ."
   ]
  },
  {
   "cell_type": "code",
   "execution_count": 19,
   "metadata": {},
   "outputs": [
    {
     "name": "stdout",
     "output_type": "stream",
     "text": [
      "Tuple 1: (1, 2, 3, 4, 5)\n",
      "Tuple 2: (1, 2, 3, 4, 5)\n",
      "Tuple 3: (1, 2, 3, 4, 5)\n",
      "Tuple 4: (1,)\n",
      "Tuple 5: (1, 2, 3, 4, 5)\n"
     ]
    }
   ],
   "source": [
    "# Create a tuple using round brackets\n",
    "tuple_1 = (1, 2, 3, 4, 5)\n",
    "\n",
    "# Create a tuple using the tuple() constructor\n",
    "tuple_2 = tuple([1, 2, 3, 4, 5])\n",
    "\n",
    "# Create a tuple from a list\n",
    "tuple_3 = tuple([1, 2, 3, 4, 5])\n",
    "\n",
    "# Create a tuple with a single element\n",
    "tuple_4 = (1,)\n",
    "\n",
    "# Create a tuple without using round brackets\n",
    "tuple_5 = 1, 2, 3, 4, 5\n",
    "\n",
    "print(f\"Tuple 1: {tuple_1}\")\n",
    "print(f\"Tuple 2: {tuple_2}\")\n",
    "print(f\"Tuple 3: {tuple_3}\")\n",
    "print(f\"Tuple 4: {tuple_4}\")\n",
    "print(f\"Tuple 5: {tuple_5}\")\n"
   ]
  },
  {
   "cell_type": "markdown",
   "metadata": {},
   "source": [
    "### Accessing Values in Tuples\n",
    "To access values in tuple, use the square brackets for slicing along with the index or indices to obtain value available at that index.\n"
   ]
  },
  {
   "cell_type": "code",
   "execution_count": 21,
   "metadata": {},
   "outputs": [
    {
     "name": "stdout",
     "output_type": "stream",
     "text": [
      "Tuple 1[0]: Python\n",
      "Tuple 2[2:5]: (3, 4, 5)\n"
     ]
    }
   ],
   "source": [
    "tuple_1 = ('Python', 'C++', 12, 19.2)\n",
    "tuple_2 = tuple(range(1, 8))\n",
    "print(f\"Tuple 1[0]: {tuple_1[0]}\")\n",
    "print(f\"Tuple 2[2:5]: {tuple_2[2:5]}\")"
   ]
  },
  {
   "cell_type": "markdown",
   "metadata": {},
   "source": [
    "### Updating Tuples\n",
    "Tuples are immutable which means you cannot update or change the values of tuple elements. You are able to take portions of existing tuples to create new tuples.\n"
   ]
  },
  {
   "cell_type": "code",
   "execution_count": 23,
   "metadata": {},
   "outputs": [
    {
     "name": "stdout",
     "output_type": "stream",
     "text": [
      "(12, 34.56, 'abc', 'xyz')\n"
     ]
    }
   ],
   "source": [
    "tup1 = (12, 34.56)\n",
    "tup2 = ('abc', 'xyz')\n",
    "\n",
    "# Following action is NOT VALID for tuples\n",
    "# tup1[0] = 100;\n",
    "\n",
    "# So let's create a new tuple as follows\n",
    "tup3 = tup1 + tup2\n",
    "print (tup3)\n"
   ]
  },
  {
   "cell_type": "markdown",
   "metadata": {},
   "source": [
    "### Delete Tuple Elements\n",
    "Removing individual tuple elements is not possible. To remove an entire tuple, use the **del** statement.\n"
   ]
  },
  {
   "cell_type": "markdown",
   "metadata": {},
   "source": [
    "#"
   ]
  },
  {
   "cell_type": "code",
   "execution_count": 24,
   "metadata": {},
   "outputs": [
    {
     "name": "stdout",
     "output_type": "stream",
     "text": [
      "('Python', 'C++', 12, 19.2)\n",
      "After deleting tuple_1:\n"
     ]
    },
    {
     "ename": "NameError",
     "evalue": "name 'tuple_1' is not defined",
     "output_type": "error",
     "traceback": [
      "\u001b[1;31m---------------------------------------------------------------------------\u001b[0m",
      "\u001b[1;31mNameError\u001b[0m                                 Traceback (most recent call last)",
      "\u001b[1;32md:\\College\\Semester 1\\Dasar Pemrograman\\github_lab\\data_structures.ipynb Cell 41\u001b[0m line \u001b[0;36m5\n\u001b[0;32m      <a href='vscode-notebook-cell:/d%3A/College/Semester%201/Dasar%20Pemrograman/github_lab/data_structures.ipynb#X55sZmlsZQ%3D%3D?line=2'>3</a>\u001b[0m \u001b[39mdel\u001b[39;00m tuple_1\n\u001b[0;32m      <a href='vscode-notebook-cell:/d%3A/College/Semester%201/Dasar%20Pemrograman/github_lab/data_structures.ipynb#X55sZmlsZQ%3D%3D?line=3'>4</a>\u001b[0m \u001b[39mprint\u001b[39m(\u001b[39m\"\u001b[39m\u001b[39mAfter deleting tuple_1:\u001b[39m\u001b[39m\"\u001b[39m)\n\u001b[1;32m----> <a href='vscode-notebook-cell:/d%3A/College/Semester%201/Dasar%20Pemrograman/github_lab/data_structures.ipynb#X55sZmlsZQ%3D%3D?line=4'>5</a>\u001b[0m \u001b[39mprint\u001b[39m(tuple_1)\n",
      "\u001b[1;31mNameError\u001b[0m: name 'tuple_1' is not defined"
     ]
    }
   ],
   "source": [
    "tuple_1 = ('Python', 'C++', 12, 19.2)\n",
    "print(tuple_1)\n",
    "del tuple_1\n",
    "print(\"After deleting tuple_1:\")\n",
    "print(tuple_1)"
   ]
  },
  {
   "cell_type": "markdown",
   "metadata": {},
   "source": [
    "### Changing Python tuple value by using list()\n",
    "We can also change the value of a tuple by converting it into a list. Then changing the value and converting it back to the tuple.\n"
   ]
  },
  {
   "cell_type": "code",
   "execution_count": 25,
   "metadata": {},
   "outputs": [
    {
     "data": {
      "text/plain": [
       "(1, 2, 3, 4, 6)"
      ]
     },
     "execution_count": 25,
     "metadata": {},
     "output_type": "execute_result"
    }
   ],
   "source": [
    "tup=(1,2,3,4,5)\n",
    "\n",
    "list1=list(tup)\n",
    "list1[4]=6\n",
    "\n",
    "tup=tuple(list1)\n",
    "tup\n"
   ]
  },
  {
   "cell_type": "markdown",
   "metadata": {},
   "source": [
    "### Tuple Packing and Unpacking\n",
    "We can create a set of elements as a tuple without using parentheses and this is called packing. We can also split the elements of a tuple by assigning the values to the same number of variables and this is called unpacking.\n"
   ]
  },
  {
   "cell_type": "code",
   "execution_count": 26,
   "metadata": {},
   "outputs": [
    {
     "name": "stdout",
     "output_type": "stream",
     "text": [
      "The type of  (1, 2, 3) is: <class 'tuple'>\n",
      "1\n",
      "2\n",
      "3\n"
     ]
    }
   ],
   "source": [
    "tup=1,2,3 #packing\n",
    "print(\"The type of \",tup,\"is:\",type(tup))\n",
    "\n",
    "a,b,c=tup #unpacking\n",
    "print(a)\n",
    "print(b)\n",
    "print(c)\n"
   ]
  },
  {
   "cell_type": "markdown",
   "metadata": {},
   "source": [
    "### Pros & Cons\n",
    "Pros :\n",
    "- They are immutable, so once created, we can be sure that we won't change their contents by mistake.\n",
    "- They can be used as dictionary keys if all their elements are immutable.\n",
    "\n",
    "Cons:\n",
    "- We cannot use them when we have to work with modifiable objects; we have to resort to lists instead.\n",
    "- Tuples cannot be copied.\n",
    "- They occupy more memory than lists.\n"
   ]
  },
  {
   "cell_type": "markdown",
   "metadata": {},
   "source": [
    "## Dictionary"
   ]
  },
  {
   "cell_type": "markdown",
   "metadata": {},
   "source": [
    "### Characteristics of Dictionaries\n",
    "- Key-Value Pairs: Dictionaries store data in key-value pairs.\n",
    "- Mutable: You can add, update, or remove items in a dictionary.\n",
    "- Unordered: No specific order of key-value pairs.\n",
    "- Hashable Keys: Keys must be of immutable data types.\n",
    "- Dynamic Sizing: Dictionaries automatically resize to handle more data.\n",
    "- Fast Lookup: Quick and efficient key-based data retrieval.\n",
    "- Membership Testing: Easily check if a key exists in a dictionary.\n",
    "- No Duplicate Keys: Keys must be unique.\n"
   ]
  },
  {
   "cell_type": "markdown",
   "metadata": {},
   "source": [
    "### Built-in Methods of Dictionaries\n",
    "- clear(): Removes all key-value pairs from the dictionary, making it empty.\n",
    "- copy(): Returns a shallow copy of the dictionary.\n",
    "- get(key, default): Returns the value associated with the given key, or a default value if the key is not found.\n",
    "- items(): Returns a view of all key-value pairs as tuples.\n",
    "- keys(): Returns a view of all keys in the dictionary.\n",
    "- values(): Returns a view of all values in the dictionary.\n",
    "- pop(key, default): Removes and returns the value associated with the given key, or a default value if the key is not found.\n",
    "- popitem(): Removes and returns an arbitrary key-value pair from the dictionary.\n",
    "- update(dictionary): Merges the dictionary with another dictionary or iterable of key-value pairs.\n",
    "- setdefault(key, default): Returns the value associated with the given key, or sets and returns a default value if the key is not found.\n",
    "- clear(): Removes all key-value pairs from the dictionary, making it empty.\n",
    "- fromkeys(iterable, value): Creates a new dictionary with keys from an iterable, each initialized to the same value.\n",
    "\n"
   ]
  },
  {
   "cell_type": "code",
   "execution_count": 27,
   "metadata": {},
   "outputs": [
    {
     "name": "stdout",
     "output_type": "stream",
     "text": [
      "Hermawan\n",
      "dict_keys(['name', 'age', 'is_developer'])\n",
      "dict_values(['Hermawan', 25, True])\n",
      "dict_items([('name', 'Hermawan'), ('age', 25), ('is_developer', True)])\n",
      "25\n",
      "{'name': 'Hermawan', 'is_developer': True}\n",
      "('is_developer', True)\n",
      "{'name': 'Hermawan'}\n",
      "{}\n"
     ]
    }
   ],
   "source": [
    "biography = {\n",
    "    \"name\": \"Hermawan\",\n",
    "    \"age\": 25,\n",
    "    \"is_developer\": True\n",
    "}\n",
    "print(biography.get(\"name\"))\n",
    "\n",
    "print(biography.keys())\n",
    "\n",
    "print(biography.values())\n",
    "\n",
    "print(biography.items())\n",
    "\n",
    "age = biography.pop(\"age\")\n",
    "print(age)\n",
    "\n",
    "print(biography)\n",
    "\n",
    "is_developer = biography.popitem()\n",
    "print(is_developer)\n",
    "\n",
    "print(biography)\n",
    "\n",
    "biography.clear()\n",
    "print(biography)"
   ]
  },
  {
   "cell_type": "markdown",
   "metadata": {},
   "source": [
    "### Updating Dictionary\n",
    "You can update a dictionary by adding a new entry or a key-value pair, modifying an existing entry, or deleting an existing entry.\n"
   ]
  },
  {
   "cell_type": "code",
   "execution_count": 28,
   "metadata": {},
   "outputs": [
    {
     "name": "stdout",
     "output_type": "stream",
     "text": [
      "biography['age']: 19\n",
      "biography['college']: IPB University\n"
     ]
    }
   ],
   "source": [
    "biography = {\n",
    "    \"name\": \"Hermawan\",\n",
    "    \"age\": 25,\n",
    "    \"is_developer\": True\n",
    "}\n",
    "\n",
    "biography['age'] = 19\n",
    "biography['college'] = 'IPB University'\n",
    "\n",
    "print(f\"biography['age']: {biography['age']}\")\n",
    "print(f\"biography['college']: {biography['college']}\")"
   ]
  },
  {
   "cell_type": "markdown",
   "metadata": {},
   "source": [
    "### Delete Dictionary Elements\n",
    "You can either remove individual dictionary elements or clear the entire contents of a dictionary. You can also delete entire dictionary using the del statement.\n"
   ]
  },
  {
   "cell_type": "code",
   "execution_count": 29,
   "metadata": {},
   "outputs": [
    {
     "name": "stdout",
     "output_type": "stream",
     "text": [
      "{'name': 'Hermawan', 'is_developer': True}\n",
      "{}\n"
     ]
    },
    {
     "ename": "NameError",
     "evalue": "name 'biography' is not defined",
     "output_type": "error",
     "traceback": [
      "\u001b[1;31m---------------------------------------------------------------------------\u001b[0m",
      "\u001b[1;31mNameError\u001b[0m                                 Traceback (most recent call last)",
      "\u001b[1;32md:\\College\\Semester 1\\Dasar Pemrograman\\github_lab\\data_structures.ipynb Cell 54\u001b[0m line \u001b[0;36m1\n\u001b[0;32m     <a href='vscode-notebook-cell:/d%3A/College/Semester%201/Dasar%20Pemrograman/github_lab/data_structures.ipynb#Y103sZmlsZQ%3D%3D?line=10'>11</a>\u001b[0m \u001b[39mprint\u001b[39m(biography)\n\u001b[0;32m     <a href='vscode-notebook-cell:/d%3A/College/Semester%201/Dasar%20Pemrograman/github_lab/data_structures.ipynb#Y103sZmlsZQ%3D%3D?line=12'>13</a>\u001b[0m \u001b[39mdel\u001b[39;00m biography\n\u001b[1;32m---> <a href='vscode-notebook-cell:/d%3A/College/Semester%201/Dasar%20Pemrograman/github_lab/data_structures.ipynb#Y103sZmlsZQ%3D%3D?line=13'>14</a>\u001b[0m \u001b[39mprint\u001b[39m(biography)\n",
      "\u001b[1;31mNameError\u001b[0m: name 'biography' is not defined"
     ]
    }
   ],
   "source": [
    "biography = {\n",
    "    \"name\": \"Hermawan\",\n",
    "    \"age\": 25,\n",
    "    \"is_developer\": True\n",
    "}\n",
    "\n",
    "del biography['age']\n",
    "print(biography)\n",
    "\n",
    "biography.clear()\n",
    "print(biography)\n",
    "\n",
    "del biography\n",
    "print(biography)"
   ]
  },
  {
   "cell_type": "markdown",
   "metadata": {},
   "source": [
    "### Common Ways to Loop through a Dictionary"
   ]
  },
  {
   "cell_type": "code",
   "execution_count": 30,
   "metadata": {},
   "outputs": [
    {
     "name": "stdout",
     "output_type": "stream",
     "text": [
      "name -> Hermawan\n",
      "age -> 25\n",
      "is_developer -> True\n",
      "name -> Hermawan\n",
      "age -> 25\n",
      "is_developer -> True\n",
      "name -> Hermawan\n",
      "age -> 25\n",
      "is_developer -> True\n",
      "Hermawan\n",
      "25\n",
      "True\n"
     ]
    }
   ],
   "source": [
    "biography = {\n",
    "    \"name\": \"Hermawan\",\n",
    "    \"age\": 25,\n",
    "    \"is_developer\": True\n",
    "}\n",
    "\n",
    "# Method 1: Loop through keys and access values\n",
    "for key in biography:\n",
    "    print(f\"{key} -> {biography[key]}\")\n",
    "    \n",
    "# Method 2: Loop through keys and values using.items()\n",
    "for key, value in biography.items():\n",
    "    print(f\"{key} -> {value}\")\n",
    "    \n",
    "# Method 3: Loop through keys using .keys() (less common)\n",
    "for key in biography.keys():\n",
    "    print(f\"{key} -> {biography[key]}\")\n",
    "    \n",
    "# Method 4: Loop through values using .values()\n",
    "for value in biography.values():\n",
    "    print(value)"
   ]
  },
  {
   "cell_type": "markdown",
   "metadata": {},
   "source": [
    "### Properties of Dictionary Keys\n",
    "- Dictionary values have no restrictions. They can be any arbitrary Python object, either standard objects or user-defined objects. \n",
    "- Dictionary keys must not be duplicated. When duplicate keys encountered during assignment, the last assignment wins.\n"
   ]
  },
  {
   "cell_type": "code",
   "execution_count": 31,
   "metadata": {},
   "outputs": [
    {
     "name": "stdout",
     "output_type": "stream",
     "text": [
      "Sentyaki\n"
     ]
    }
   ],
   "source": [
    "biography = {\n",
    "    \"name\": \"Hermawan\",\n",
    "    \"age\": 19,\n",
    "    \"name\": \"Sentyaki\"\n",
    "}\n",
    "\n",
    "print(biography[\"name\"])"
   ]
  },
  {
   "cell_type": "markdown",
   "metadata": {},
   "source": [
    "### Pros & Cons\n",
    "Pros :\n",
    "- Makes code much easier to read if we need to generate key:value pairs. We can also do the same with a list of lists (where inner lists are pairs of \"keys\" and \"values\"), but this looks more complex and confusing.\n",
    "- We can look up a certain value in a dictionary very quickly. Instead, with a list, we would have to read the list before we hit the required element. This difference grows drastically if we increase the number of elements.\n",
    "\n",
    "Cons:\n",
    "- Occupies a lot of space. If we need to handle a large amount of data, this is not the most suitable.\n",
    "- In Python 3.6.0+, dictionaries remember the order of element insertions. Keep that in mind to avoid compatibility issues when using the same code in different versions of Python.\n"
   ]
  },
  {
   "cell_type": "markdown",
   "metadata": {},
   "source": [
    "## Sets"
   ]
  },
  {
   "cell_type": "markdown",
   "metadata": {},
   "source": [
    "### Characteristics of Sets\n",
    "- Unordered: Sets store elements without a specific order.\n",
    "- Mutable: You can add and remove elements.\n",
    "- No Duplicates: Sets only allow unique elements.\n",
    "- Iterability: You can loop through set elements.\n",
    "- Math Set Operations: Support operations like union and intersection.\n",
    "- Immutability: Elements must be of immutable data types.\n",
    "- Efficient Membership Testing: Quick checks if an element is in the set.\n",
    "- Dynamic Sizing: Sets adjust to accommodate new elements.\n"
   ]
  },
  {
   "cell_type": "markdown",
   "metadata": {},
   "source": [
    "### Common Built-in Methods on Sets\n",
    "- add(): Adds an element to a set.\n",
    "- pop():Removes the last element if index is not specified and if specified removes elements at that index.\n",
    "- clear(): Deletes all the elements of a set.\n",
    "- len(): Find the length of a set, etc.\n",
    "- remove(): Removes a specified element; raises an error if not found.\n",
    "- discard(): Removes a specified element if it exists; no error if not found.\n",
    "- union(set): Combines sets, removing duplicates (or use | operator).\n",
    "- intersection(set): Finds common elements in sets (or use & operator).\n",
    "- difference(set): Finds elements in one set but not the other (or use - operator).\n"
   ]
  },
  {
   "cell_type": "markdown",
   "metadata": {},
   "source": [
    "### Creating a Set\n",
    "A set is created by using the set() function or placing all the elements within a pair of curly braces.\n"
   ]
  },
  {
   "cell_type": "code",
   "execution_count": 32,
   "metadata": {},
   "outputs": [
    {
     "name": "stdout",
     "output_type": "stream",
     "text": [
      "{'Thu', 'Fri', 'Mon', 'Wed', 'Tue', 'Sun', 'Sat'}\n",
      "{'Jan', 'Feb', 'Mar'}\n",
      "{17, 21, 22}\n"
     ]
    }
   ],
   "source": [
    "days = set([\"Mon\",\"Tue\",\"Wed\",\"Thu\",\"Fri\",\"Sat\",\"Sun\"])\n",
    "months = {\"Jan\",\"Feb\",\"Mar\"}\n",
    "dates = {21,22,17}\n",
    "print(days)\n",
    "print(months)\n",
    "print(dates)"
   ]
  },
  {
   "cell_type": "markdown",
   "metadata": {},
   "source": [
    "### Accessing Values in a Set\n",
    "We cannot access individual values in a set. We can only access all the elements together as shown above. But we can also get a list of individual elements by looping through the set.\n"
   ]
  },
  {
   "cell_type": "code",
   "execution_count": 33,
   "metadata": {},
   "outputs": [
    {
     "name": "stdout",
     "output_type": "stream",
     "text": [
      "Thu\n",
      "Fri\n",
      "Mon\n",
      "Wed\n",
      "Tue\n",
      "Sun\n",
      "Sat\n"
     ]
    }
   ],
   "source": [
    "days = set([\"Mon\",\"Tue\",\"Wed\",\"Thu\",\"Fri\",\"Sat\",\"Sun\"])\n",
    "for day in days:\n",
    "    print(day)"
   ]
  },
  {
   "cell_type": "markdown",
   "metadata": {},
   "source": [
    "### Adding & Removing Items to a Set\n",
    "We can add elements to a set by using add() method. We can remove elements from a set by using discard() method. There is no specific index attached to the newly added element. \n"
   ]
  },
  {
   "cell_type": "code",
   "execution_count": 34,
   "metadata": {},
   "outputs": [
    {
     "name": "stdout",
     "output_type": "stream",
     "text": [
      "{'Thu', 'Mon', 'Wed', 'Tue', 'Sun', 'Sat', 'Fri'}\n",
      "{'Thu', 'Mon', 'Wed', 'Tue', 'Sat', 'Fri'}\n"
     ]
    }
   ],
   "source": [
    "days = {\"Mon\",\"Tue\",\"Wed\",\"Thu\",\"Fri\",\"Sat\"}\n",
    "days.add(\"Sun\")\n",
    "print(days)\n",
    "\n",
    "days.discard(\"Sun\")\n",
    "print(days)"
   ]
  },
  {
   "cell_type": "markdown",
   "metadata": {},
   "source": [
    "### Union, Intersection, and Difference of Sets\n",
    "- The union operation on two sets produces a new set containing all the distinct elements from both the sets. \n",
    "- The intersection operation on two sets produces a new set containing only the common elements from both the sets.\n",
    "- The difference operation on two sets produces a new set containing only the elements from the first set and none from the second set.\n"
   ]
  },
  {
   "cell_type": "code",
   "execution_count": 35,
   "metadata": {},
   "outputs": [
    {
     "name": "stdout",
     "output_type": "stream",
     "text": [
      "{'Thu', 'Fri', 'Mon', 'Wed', 'Tue', 'Sun', 'Sat'}\n",
      "{'Wed'}\n",
      "{'Mon', 'Tue'}\n"
     ]
    }
   ],
   "source": [
    "mon_to_wed = {\"Mon\",\"Tue\",\"Wed\"}\n",
    "wed_to_sun = {\"Wed\",\"Thu\",\"Fri\",\"Sat\",\"Sun\"}\n",
    "print(mon_to_wed | wed_to_sun) # equals with mon_to_wed.union(wed_to_sun)\n",
    "print(mon_to_wed & wed_to_sun) # equals with mon_to_wed.intersection(wed_to_sun)\n",
    "print(mon_to_wed - wed_to_sun) # equals with mon_to_wed.difference(wed_to_sun)"
   ]
  },
  {
   "cell_type": "markdown",
   "metadata": {},
   "source": [
    "### Pros & Cons\n",
    "Pros :\n",
    "- We can perform unique (but similar) operations on them.\n",
    "- They are significantly faster than lists if we want to check whether a certain element is contained in a set.\n",
    "  \n",
    "Cons:\n",
    "- Sets are intrinsically unordered. If we care about keeping the insertion order, they are not our best choice.\n",
    "- We cannot change set elements by indexing as we can with lists.\n"
   ]
  },
  {
   "cell_type": "markdown",
   "metadata": {},
   "source": [
    "## Choosing Data Structures"
   ]
  },
  {
   "cell_type": "markdown",
   "metadata": {},
   "source": [
    "### Case: Employees List\n",
    "\n",
    "Each data structure offers a different approach to storing, accessing and updating the information stored inside it. There can be many factors to select from, including size, speed and performance. The best way to try and understand which one is more suitable is through an example.\n",
    "\n",
    "**Example**: Employees list\n",
    "\n",
    "In this example, there's a list of employees that work in a restaurant. You need to be able to find an employee by their employee ID - an integer-based numeric ID. The function get_employee contains a for loop to iterate over the list of employees and returns an employee object if the ID matches.\n"
   ]
  },
  {
   "cell_type": "markdown",
   "metadata": {},
   "source": [
    "### Using List of Tuples\n",
    "In this code, employee_list is a list of tuples. The code runs well and will return the user Paul, as its ID, 12458, is matched. The challenge comes when the list gets bigger.  It lacks in performance in comparison to other data structures, such as the dictionary.\n"
   ]
  },
  {
   "cell_type": "code",
   "execution_count": 36,
   "metadata": {},
   "outputs": [
    {
     "name": "stdout",
     "output_type": "stream",
     "text": [
      "{'id': 12458, 'name': 'Sentyaki', 'department': 'Machine Learning Engineer'}\n"
     ]
    }
   ],
   "source": [
    "employee_list = [(12345, \"Hermawan\", \"Back End Developer\"), (12458, \"Sentyaki\", \"Machine Learning Engineer\")]\n",
    "\n",
    "def get_employee(id):\n",
    "    for employee in employee_list:\n",
    "        if employee[0] == id:\n",
    "            return {\"id\": employee[0], \"name\": employee[1], \"department\": employee[2]}\n",
    "\n",
    "print(get_employee(12458))\n"
   ]
  },
  {
   "cell_type": "markdown",
   "metadata": {},
   "source": [
    "### Using Dictionary\n",
    "In this code block, we change to use a dictionary. The main difference is that you no longer need to iterate over the list to locate them. If the list expands to a much larger size, the seek time to find the employee stays the same.\n"
   ]
  },
  {
   "cell_type": "code",
   "execution_count": 37,
   "metadata": {},
   "outputs": [
    {
     "name": "stdout",
     "output_type": "stream",
     "text": [
      "{'name': 'Sentyaki', 'department': 'Machine Learning Engineer'}\n"
     ]
    }
   ],
   "source": [
    "employee_dict = {\n",
    "    12345: {\n",
    "        \"name\": \"Hermawan\",\n",
    "        \"department\": \"Back End Developer\"\n",
    "    },\n",
    "    12458: {\n",
    "        \"name\": \"Sentyaki\",\n",
    "        \"department\": \"Machine Learning Engineer\"\n",
    "    }\n",
    "}\n",
    "\n",
    "def get_employee_from_dict(id):\n",
    "    return employee_dict[id]\n",
    "\n",
    "print(get_employee_from_dict(12458))"
   ]
  }
 ],
 "metadata": {
  "kernelspec": {
   "display_name": "base",
   "language": "python",
   "name": "python3"
  },
  "language_info": {
   "codemirror_mode": {
    "name": "ipython",
    "version": 3
   },
   "file_extension": ".py",
   "mimetype": "text/x-python",
   "name": "python",
   "nbconvert_exporter": "python",
   "pygments_lexer": "ipython3",
   "version": "3.11.4"
  }
 },
 "nbformat": 4,
 "nbformat_minor": 2
}
